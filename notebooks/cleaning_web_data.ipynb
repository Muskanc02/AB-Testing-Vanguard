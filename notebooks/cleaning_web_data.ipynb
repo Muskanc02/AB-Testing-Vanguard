{
 "cells": [
  {
   "cell_type": "code",
   "execution_count": 10,
   "metadata": {},
   "outputs": [],
   "source": [
    "import pandas as pd\n",
    "import matplotlib.pyplot as plt\n",
    "import seaborn as sns\n",
    "import numpy as np\n",
    "import random\n",
    "from textwrap import wrap\n",
    "\n",
    "%matplotlib inline"
   ]
  },
  {
   "cell_type": "code",
   "execution_count": null,
   "metadata": {},
   "outputs": [],
   "source": [
    "df_1 = pd.read_csv(\"../data/raw/df_final_web_data_pt_1.txt\")\n",
    "df_2 = pd.read_csv(\"../data/raw/df_final_web_data_pt_2.txt\")\n",
    "df_1, df_2"
   ]
  },
  {
   "cell_type": "code",
   "execution_count": null,
   "metadata": {},
   "outputs": [],
   "source": [
    "# Concatenate the two dataframes\n",
    "df = pd.concat([df_1, df_2], axis=0)\n",
    "df"
   ]
  },
  {
   "cell_type": "code",
   "execution_count": null,
   "metadata": {},
   "outputs": [],
   "source": [
    "# Check random client_ids\n",
    "\n",
    "list_of_ids = df[\"client_id\"].to_list()\n",
    "df[df[\"client_id\"] == random.choice(list_of_ids)]"
   ]
  },
  {
   "cell_type": "code",
   "execution_count": null,
   "metadata": {},
   "outputs": [],
   "source": [
    "# Check for NaN values count\n",
    "df.isna().sum()"
   ]
  },
  {
   "cell_type": "code",
   "execution_count": null,
   "metadata": {},
   "outputs": [],
   "source": [
    "# Visualizes only rows with NaN values\n",
    "df_nas = df[df.isna().any(axis=1)]\n",
    "df_nas"
   ]
  },
  {
   "cell_type": "code",
   "execution_count": null,
   "metadata": {},
   "outputs": [],
   "source": [
    "# Casting process_steps as numbers\n",
    "steps_map = {\n",
    "    \"start\": 0,\n",
    "    \"step_1\": 1,\n",
    "    \"step_2\": 2,\n",
    "    \"step_3\": 3,\n",
    "    \"confirm\": 4\n",
    "}\n",
    "\n",
    "df[\"process_step\"] = df[\"process_step\"].map(steps_map)\n",
    "df"
   ]
  },
  {
   "cell_type": "code",
   "execution_count": null,
   "metadata": {},
   "outputs": [],
   "source": [
    "# Rename dataframe to export\n",
    "df_web_data = df\n",
    "df_web_data"
   ]
  },
  {
   "cell_type": "code",
   "execution_count": 18,
   "metadata": {},
   "outputs": [],
   "source": [
    "# create a dummy function to send to the exploration notebook\n",
    "def import_df_web_data():\n",
    "    return (\n",
    "        df_web_data\n",
    "        )"
   ]
  }
 ],
 "metadata": {
  "kernelspec": {
   "display_name": "second_project_eda",
   "language": "python",
   "name": "python3"
  },
  "language_info": {
   "codemirror_mode": {
    "name": "ipython",
    "version": 3
   },
   "file_extension": ".py",
   "mimetype": "text/x-python",
   "name": "python",
   "nbconvert_exporter": "python",
   "pygments_lexer": "ipython3",
   "version": "3.9.6"
  }
 },
 "nbformat": 4,
 "nbformat_minor": 2
}
