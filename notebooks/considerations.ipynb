{
 "cells": [
  {
   "cell_type": "code",
   "execution_count": null,
   "metadata": {},
   "outputs": [],
   "source": [
    "import pandas as pd\n",
    "import matplotlib.pyplot as plt\n",
    "import seaborn as sns\n",
    "import numpy as np\n",
    "import random\n",
    "\n",
    "# from textwrap import wrap\n",
    "\n",
    "%matplotlib inline\n",
    "\n",
    "# %run cleaning_join_all.ipynb\n",
    "# df_join_clean = import_df_join_clean() # type: ignore\n",
    "\n",
    "df_join_clean = pd.read_csv(\"../data/clean/df_join_clean.csv\")"
   ]
  },
  {
   "cell_type": "code",
   "execution_count": null,
   "metadata": {},
   "outputs": [],
   "source": [
    "display(df_join_clean)"
   ]
  },
  {
   "cell_type": "code",
   "execution_count": null,
   "metadata": {},
   "outputs": [],
   "source": [
    "df_join_clean = df_join_clean.sort_values(by=[\"client_id\", \"visit_id\", \"date_time\", \"process_step\" ]).reset_index(drop=True)\n",
    "\n",
    "df_join_clean"
   ]
  },
  {
   "cell_type": "code",
   "execution_count": null,
   "metadata": {},
   "outputs": [],
   "source": [
    "df_join_clean[df_join_clean[\"process_step\"] == 4].drop_duplicates(subset=['visit_id', 'process_step'], keep=\"last\", inplace=True) # Drop duplicate confirms for same visit\n",
    "df_join_clean[df_join_clean[\"process_step\"] == 0].drop_duplicates(subset=['visit_id', 'process_step'], keep=\"last\", inplace=True) # Drop duplicate starts for same visit"
   ]
  },
  {
   "cell_type": "markdown",
   "metadata": {},
   "source": [
    "## Considerations after combining the data:"
   ]
  },
  {
   "cell_type": "code",
   "execution_count": null,
   "metadata": {},
   "outputs": [],
   "source": [
    "# Eveluates if steps are errors\n",
    "\n",
    "df_join_clean['steps_status'] = None\n",
    "previous_visit_id = None\n",
    "previous_value = None\n",
    "\n",
    "for i in range(len(df_join_clean)):\n",
    "    current_visit_id = df_join_clean.iloc[i][\"visit_id\"]\n",
    "    current_value = df_join_clean.iloc[i][\"process_step\"]\n",
    "\n",
    "    if current_value == 0:\n",
    "        df_join_clean.iloc[i, df_join_clean.columns.get_loc('steps_status')] = \"start\"\n",
    "    else:\n",
    "        if previous_value > current_value:\n",
    "            df_join_clean.iloc[i, df_join_clean.columns.get_loc('steps_status')] = \"error\"\n",
    "        if previous_value == current_value:\n",
    "            df_join_clean.iloc[i, df_join_clean.columns.get_loc('steps_status')] = \"idle\"\n",
    "        if previous_value < current_value:\n",
    "            df_join_clean.iloc[i, df_join_clean.columns.get_loc('steps_status')] = \"ok\"\n",
    "        if current_value == 4:\n",
    "            df_join_clean.iloc[i, df_join_clean.columns.get_loc('steps_status')] = \"confirm\"\n",
    "    \n",
    "    previous_value = current_value\n",
    "\n",
    "print(df_join_clean)"
   ]
  },
  {
   "cell_type": "markdown",
   "metadata": {},
   "source": [
    "### Split the data in the control and test groups"
   ]
  },
  {
   "cell_type": "code",
   "execution_count": null,
   "metadata": {},
   "outputs": [],
   "source": [
    "df_test_group = df_join_clean[df_join_clean[\"Variation\"] == \"Test\"]\n",
    "df_control_group = df_join_clean[df_join_clean[\"Variation\"] == \"Control\"]\n",
    "\n",
    "df_test_group, df_control_group"
   ]
  },
  {
   "cell_type": "markdown",
   "metadata": {},
   "source": [
    "### Sort the datasets by: client_id, visit_id (one customer can use the platform several times), process, and datetime\n"
   ]
  },
  {
   "cell_type": "code",
   "execution_count": null,
   "metadata": {},
   "outputs": [],
   "source": [
    "# # Required:\n",
    "# # - change process_step to numeral (0 to 4)\n",
    "# # - evaluate which floats to change to integers\n",
    "# df_test_group = df_test_group.sort_values(by=[\"client_id\", \"visit_id\", \"process_step\", \"date_time\"]).reset_index(drop=True)\n",
    "# df_control_group = df_control_group.sort_values(by=[\"client_id\", \"visit_id\", \"process_step\", \"date_time\"]).reset_index(drop=True)"
   ]
  },
  {
   "cell_type": "code",
   "execution_count": null,
   "metadata": {},
   "outputs": [],
   "source": [
    "# Check random client_ids test group\n",
    "\n",
    "list_of_ids = df_test_group[\"client_id\"].to_list()\n",
    "df_test_group[df_test_group[\"client_id\"] == random.choice(list_of_ids)][[\"client_id\", \"visit_id\",  \"date_time\", \"process_step\", \"steps_status\"]]"
   ]
  },
  {
   "cell_type": "code",
   "execution_count": null,
   "metadata": {},
   "outputs": [],
   "source": [
    "# Spot Errors\n",
    "df_test_group[df_test_group[\"steps_status\"] == \"error\"]"
   ]
  },
  {
   "cell_type": "code",
   "execution_count": null,
   "metadata": {},
   "outputs": [],
   "source": [
    "# Completion Rate by Group\n",
    "\n",
    "def get_completion_rate(df):\n",
    "    num_visits = df[\"visit_id\"].nunique()\n",
    "    print(\"Number of Visits >> \", num_visits)\n",
    "\n",
    "    num_confirm = df[df[\"process_step\"] == 4]\n",
    "    num_confirm.drop_duplicates(subset=['visit_id', 'process_step'], keep=\"last\", inplace=True) # Drop duplicate confirms for same visit\n",
    "    num_confirm = num_confirm[\"process_step\"].count()\n",
    "    print(\"Number of Confirms >> \", num_confirm)\n",
    "\n",
    "    completion_rate = (num_confirm / num_visits).round(2)\n",
    "    print(\"Completion Rate >> \", completion_rate)\n",
    "\n",
    "print(\"Test Group\")\n",
    "get_completion_rate(df_test_group)\n",
    "print(\"\")\n",
    "\n",
    "print(\"Test Group bal > 1000000\")\n",
    "get_completion_rate(df_test_group[df_test_group[\"bal\"] > 1000000])\n",
    "print(\"\")\n",
    "\n",
    "print(\"Test Group bal > 1000000 and Male\")\n",
    "get_completion_rate(df_test_group[(df_test_group[\"bal\"] > 1000000) & (df_test_group[\"gendr\"] == \"M\")])\n",
    "print(\"\")\n",
    "\n",
    "print(\"Test Group bal > 1000000 and Adult Males\")\n",
    "get_completion_rate(df_test_group[(df_test_group[\"bal\"] > 1000000) & (df_test_group[\"gendr\"] == \"M\") & (df_test_group[\"age_group\"] == \"Adults\") ])\n",
    "print(\"\")"
   ]
  },
  {
   "cell_type": "code",
   "execution_count": null,
   "metadata": {},
   "outputs": [],
   "source": [
    "print(\"Control Group\")\n",
    "get_completion_rate(df_control_group)\n",
    "print(\"\")\n",
    "\n",
    "print(\"Control Group bal > 1000000\")\n",
    "get_completion_rate(df_control_group[df_control_group[\"bal\"] > 1000000])\n",
    "print(\"\")\n",
    "\n",
    "print(\"Control Group bal > 1000000 and Male\")\n",
    "get_completion_rate(df_control_group[(df_control_group[\"bal\"] > 1000000) & (df_control_group[\"gendr\"] == \"M\")])\n",
    "print(\"\")\n",
    "\n",
    "print(\"Control Group bal > 1000000 and Adult Males\")\n",
    "get_completion_rate(df_control_group[(df_control_group[\"bal\"] > 1000000) & (df_control_group[\"gendr\"] == \"M\") & (df_control_group[\"age_group\"] == \"Adults\") ])\n",
    "print(\"\")"
   ]
  },
  {
   "cell_type": "markdown",
   "metadata": {},
   "source": [
    "### Determine which percentage of customers in any step of process are hitting errors for control, and test groups.\n",
    "- Some clients will hit errors in any step of the process and they will go to a previous step. "
   ]
  },
  {
   "cell_type": "code",
   "execution_count": null,
   "metadata": {},
   "outputs": [],
   "source": [
    "# Error Rate by Group\n",
    "\n",
    "def get_error_rate(df):\n",
    "    num_visits = df[\"visit_id\"].nunique()\n",
    "    print(\"Number of Visits >> \", num_visits)\n",
    "\n",
    "    num_steps = df[\"process_step\"].count()\n",
    "    print(\"Number of Steps >> \", num_steps)\n",
    "\n",
    "    num_errors = df[df[\"steps_status\"] == \"error\"]\n",
    "    # num_errors.drop_duplicates(subset=['visit_id', 'process_step'], keep=\"last\", inplace=True) # Drop duplicate confirms for same visit\n",
    "    num_errors = num_errors[\"steps_status\"].count()\n",
    "    print(\"Number of Errors >> \", num_errors)\n",
    "\n",
    "    error_rate = (num_errors / num_visits).round(2)\n",
    "    print(\"Error Rate per Visit >> \", error_rate)\n",
    "\n",
    "    error_rate_step = (num_errors / num_steps).round(2)\n",
    "    print(\"Error Rate per Steps >> \", error_rate_step)\n",
    "\n",
    "print(\"Test Group\")\n",
    "get_error_rate(df_test_group)\n",
    "print(\"\")\n",
    "\n",
    "print(\"Control Group\")\n",
    "get_error_rate(df_control_group)\n",
    "print(\"\")\n",
    "\n",
    "print(\"Test Group bal > 1000000\")\n",
    "get_error_rate(df_test_group[df_test_group[\"bal\"] > 1000000])\n",
    "print(\"\")\n",
    "\n",
    "print(\"Control Group bal > 1000000\")\n",
    "get_error_rate(df_control_group[df_control_group[\"bal\"] > 1000000])\n",
    "print(\"\")\n",
    "\n",
    "print(\"Test Group bal > 1000000 and Male\")\n",
    "get_error_rate(df_test_group[(df_test_group[\"bal\"] > 1000000) & (df_test_group[\"gendr\"] == \"M\")])\n",
    "print(\"\")\n",
    "\n",
    "print(\"Control Group bal > 1000000 and Male\")\n",
    "get_error_rate(df_control_group[(df_control_group[\"bal\"] > 1000000) & (df_control_group[\"gendr\"] == \"M\")])\n",
    "print(\"\")"
   ]
  },
  {
   "cell_type": "markdown",
   "metadata": {},
   "source": [
    "\n",
    "- If a customer has several start times, only the last one must be considered.\n",
    "- If a customer hits the confirmation step several times, consider the last one as the end of the process\n",
    "- Keep in mind that this is a funnel process. Therefore, not all the customers who start the process will finish it and be able to proceed to the next one.\n",
    "- There are lots of customers who participated in the experiment over a limited period of time. Some of them will be faster or more successful than others, but all of them count. Therefore, we're looking for \"mean\" times or rates!!!\n"
   ]
  },
  {
   "cell_type": "code",
   "execution_count": null,
   "metadata": {},
   "outputs": [],
   "source": []
  },
  {
   "cell_type": "markdown",
   "metadata": {},
   "source": [
    "\n",
    "\n",
    "## Accordingly:\n",
    "- Within the same group (control or test), are the completion rates (number of customers who reached the end of a step out of total who started) in each step the same? (... test)\n",
    "- Between groups (control and test), are the completion rates (number of customers who reached the end of a step out of total who started) in each step the same? (... test)\n",
    "- Within the same group (control or test), are the completion times of all the steps of the process the same? (... test)\n",
    "- Between groups (control and test), are the completion times of each step the same? (...step)\n",
    "- Is the error rate (number of customers who had to go to a previous step out of total) in the test group smaller than the error rate in the control group (whatever error rate is) - 5%?\n",
    "- Do you find differences by age groups in control and test groups?\n",
    "- Use Tableau to create graphs to summarize your findings."
   ]
  }
 ],
 "metadata": {
  "kernelspec": {
   "display_name": "base",
   "language": "python",
   "name": "python3"
  },
  "language_info": {
   "codemirror_mode": {
    "name": "ipython",
    "version": 3
   },
   "file_extension": ".py",
   "mimetype": "text/x-python",
   "name": "python",
   "nbconvert_exporter": "python",
   "pygments_lexer": "ipython3",
   "version": "3.12.7"
  }
 },
 "nbformat": 4,
 "nbformat_minor": 2
}
