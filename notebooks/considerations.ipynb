{
 "cells": [
  {
   "cell_type": "code",
   "execution_count": null,
   "metadata": {},
   "outputs": [],
   "source": [
    "import pandas as pd\n",
    "import matplotlib.pyplot as plt\n",
    "import seaborn as sns\n",
    "import numpy as np\n",
    "# from textwrap import wrap\n",
    "\n",
    "%matplotlib inline\n",
    "%run cleaning_join_all.ipynb\n",
    "\n",
    "df_join_clean = import_df_join_clean() # type: ignore"
   ]
  },
  {
   "cell_type": "code",
   "execution_count": null,
   "metadata": {},
   "outputs": [],
   "source": [
    "df_join_clean"
   ]
  },
  {
   "cell_type": "markdown",
   "metadata": {},
   "source": [
    "## Considerations after combining the data:\n",
    "### Split the data in the control and test groups\n"
   ]
  },
  {
   "cell_type": "code",
   "execution_count": null,
   "metadata": {},
   "outputs": [],
   "source": [
    "df_test_group = df_join_clean[df_join_clean[\"Variation\"] == \"Control\"]\n",
    "df_test_group"
   ]
  },
  {
   "cell_type": "markdown",
   "metadata": {},
   "source": [
    "### Sort the datasets by: client_id, visit_id (one customer can use the platform several times), process, and datetime\n"
   ]
  },
  {
   "cell_type": "code",
   "execution_count": null,
   "metadata": {},
   "outputs": [],
   "source": [
    "# Required:\n",
    "# - change process_step to numeral (0 to 4)\n",
    "# - evaluate which floats to change to integers\n",
    "df_test_group.sort_values(by=[\"client_id\", \"visit_id\", \"process_step\", \"date_time\"])"
   ]
  },
  {
   "cell_type": "markdown",
   "metadata": {},
   "source": [
    "- Some clients will hit errors in any step of the process and they will go to a previous step. \n",
    "### Determine which percentage of customers in any step of process are hitting errors for control, and test groups.\n",
    "- If a customer has several start times, only the last one must be considered.\n",
    "- If a customer hits the confirmation step several times, consider the last one as the end of the process\n",
    "- Keep in mind that this is a funnel process. Therefore, not all the customers who start the process will finish it and be able to proceed to the next one.\n",
    "- There are lots of customers who participated in the experiment over a limited period of time. Some of them will be faster or more successful than others, but all of them count. Therefore, we're looking for \"mean\" times or rates!!!\n"
   ]
  },
  {
   "cell_type": "code",
   "execution_count": null,
   "metadata": {},
   "outputs": [],
   "source": []
  },
  {
   "cell_type": "markdown",
   "metadata": {},
   "source": [
    "\n",
    "\n",
    "## Accordingly:\n",
    "- Within the same group (control or test), are the completion rates (number of customers who reached the end of a step out of total who started) in each step the same? (... test)\n",
    "- Between groups (control and test), are the completion rates (number of customers who reached the end of a step out of total who started) in each step the same? (... test)\n",
    "- Within the same group (control or test), are the completion times of all the steps of the process the same? (... test)\n",
    "- Between groups (control and test), are the completion times of each step the same? (...step)\n",
    "- Is the error rate (number of customers who had to go to a previous step out of total) in the test group smaller than the error rate in the control group (whatever error rate is) - 5%?\n",
    "- Do you find differences by age groups in control and test groups?\n",
    "- Use Tableau to create graphs to summarize your findings."
   ]
  }
 ],
 "metadata": {
  "kernelspec": {
   "display_name": "base",
   "language": "python",
   "name": "python3"
  },
  "language_info": {
   "codemirror_mode": {
    "name": "ipython",
    "version": 3
   },
   "file_extension": ".py",
   "mimetype": "text/x-python",
   "name": "python",
   "nbconvert_exporter": "python",
   "pygments_lexer": "ipython3",
   "version": "3.12.7"
  }
 },
 "nbformat": 4,
 "nbformat_minor": 2
}
