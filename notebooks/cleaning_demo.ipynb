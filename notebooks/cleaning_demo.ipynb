{
 "cells": [
  {
   "cell_type": "code",
   "execution_count": 17,
   "metadata": {},
   "outputs": [],
   "source": [
    "import pandas as pd\n",
    "import matplotlib.pyplot as plt\n",
    "import seaborn as sns\n",
    "import numpy as np\n",
    "import random\n",
    "# from textwrap import wrap\n",
    "\n",
    "import functions as f\n",
    "\n",
    "%matplotlib inline"
   ]
  },
  {
   "cell_type": "code",
   "execution_count": null,
   "metadata": {},
   "outputs": [],
   "source": [
    "df = pd.read_csv(\"../data/raw/df_final_demo.txt\")\n",
    "df"
   ]
  },
  {
   "cell_type": "code",
   "execution_count": null,
   "metadata": {},
   "outputs": [],
   "source": [
    "# Check random client_ids\n",
    "\n",
    "list_of_ids = df[\"client_id\"].to_list()\n",
    "df[df[\"client_id\"] == random.choice(list_of_ids)]"
   ]
  },
  {
   "cell_type": "code",
   "execution_count": null,
   "metadata": {},
   "outputs": [],
   "source": [
    "# Check for NaN values count\n",
    "df.isna().sum()"
   ]
  },
  {
   "cell_type": "code",
   "execution_count": null,
   "metadata": {},
   "outputs": [],
   "source": [
    "# Visualizes only rows with NaN values\n",
    "df_nas = df[df.isna().any(axis=1)]\n",
    "df_nas"
   ]
  },
  {
   "cell_type": "code",
   "execution_count": null,
   "metadata": {},
   "outputs": [],
   "source": [
    "# Drop NaN values\n",
    "df.dropna(inplace=True, how=\"any\")\n",
    "df.reset_index(drop=True)\n",
    "\n",
    "df"
   ]
  },
  {
   "cell_type": "code",
   "execution_count": null,
   "metadata": {},
   "outputs": [],
   "source": [
    "# Check again rows with NaN values\n",
    "df_nas = df[df.isna().any(axis=1)]\n",
    "df_nas"
   ]
  },
  {
   "cell_type": "code",
   "execution_count": 24,
   "metadata": {},
   "outputs": [],
   "source": [
    "#Deleting N/As for client age and rounding up with ceiling\n",
    "df = df[~df['clnt_age'].isna()]\n",
    "df['clnt_age'] = np.ceil(df['clnt_age'])"
   ]
  },
  {
   "cell_type": "code",
   "execution_count": null,
   "metadata": {},
   "outputs": [],
   "source": [
    "# Cast floats as integers\n",
    "df = df.astype({\n",
    "    \"clnt_tenure_yr\": \"int64\", \n",
    "    \"clnt_tenure_mnth\": \"int64\",\n",
    "    \"clnt_age\": \"int64\",\n",
    "    \"num_accts\": \"int64\",\n",
    "    \"calls_6_mnth\": \"int64\",\n",
    "    \"logons_6_mnth\": \"int64\"\n",
    "    })\n",
    "\n",
    "df"
   ]
  },
  {
   "cell_type": "code",
   "execution_count": null,
   "metadata": {},
   "outputs": [],
   "source": [
    "#client tenure years should not be higher than the client age\n",
    "df = df[~(df['clnt_tenure_yr'] > df['clnt_age'])]\n",
    "df"
   ]
  },
  {
   "cell_type": "code",
   "execution_count": null,
   "metadata": {},
   "outputs": [],
   "source": [
    "#Adding columns for group ages and tenures\n",
    "\n",
    "clnt_tenure_yr_mode = df['clnt_tenure_yr'].mode()\n",
    "print(clnt_tenure_yr_mode)\n",
    "\n",
    "# df['tenure'] = df['clnt_tenure_yr'].apply(lambda x: 'New Client' if x <= clnt_tenure_yr_mode else 'Long Standing Client')\n",
    "df['age_group'] = df['clnt_age'].apply(lambda x: 'Young Adult' if x <= 30 else 'Adults' if x <= 50 else 'Senior' if x <= 70 else 'Elderly')"
   ]
  },
  {
   "cell_type": "code",
   "execution_count": null,
   "metadata": {},
   "outputs": [],
   "source": [
    "# Discretizing 'bal' into 3 categories\n",
    "bins = [0, 50000, 100000, df['bal'].max()]\n",
    "labels = ['Low', 'Medium', 'High']\n",
    "df['bal_category_3'] = pd.cut(df['bal'], bins=bins, labels=labels, include_lowest=True)\n",
    "\n",
    "df['bal_category_3'].value_counts()"
   ]
  },
  {
   "cell_type": "code",
   "execution_count": null,
   "metadata": {},
   "outputs": [],
   "source": [
    "# Discretizing 'bal' into 2 categories\n",
    "bins = [0, 75000, df['bal'].max()]\n",
    "labels = ['Low', 'High']\n",
    "df['bal_category_2'] = pd.cut(df['bal'], bins=bins, labels=labels, include_lowest=True)\n",
    "\n",
    "df['bal_category_2'].value_counts()"
   ]
  },
  {
   "cell_type": "code",
   "execution_count": null,
   "metadata": {},
   "outputs": [],
   "source": [
    "# Rename dataframe to export\n",
    "df_demo = df\n",
    "df_demo"
   ]
  },
  {
   "cell_type": "code",
   "execution_count": null,
   "metadata": {},
   "outputs": [],
   "source": [
    "# df_demo.to_csv(\"../data/clean/df_demo_clean.cvs\")\n",
    "# Save to csv\n",
    "f.save_to_csv(df_demo, \"df_demo_clean.csv\")"
   ]
  },
  {
   "cell_type": "code",
   "execution_count": 32,
   "metadata": {},
   "outputs": [],
   "source": [
    "# create a dummy function to send to the exploration notebook\n",
    "def import_df_demo():\n",
    "    return (\n",
    "        df_demo\n",
    "        )"
   ]
  }
 ],
 "metadata": {
  "kernelspec": {
   "display_name": "base",
   "language": "python",
   "name": "python3"
  },
  "language_info": {
   "codemirror_mode": {
    "name": "ipython",
    "version": 3
   },
   "file_extension": ".py",
   "mimetype": "text/x-python",
   "name": "python",
   "nbconvert_exporter": "python",
   "pygments_lexer": "ipython3",
   "version": "3.12.7"
  }
 },
 "nbformat": 4,
 "nbformat_minor": 2
}
