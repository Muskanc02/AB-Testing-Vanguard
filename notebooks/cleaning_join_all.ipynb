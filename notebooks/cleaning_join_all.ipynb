{
 "cells": [
  {
   "cell_type": "code",
   "execution_count": 1,
   "metadata": {},
   "outputs": [],
   "source": [
    "import pandas as pd\n",
    "import matplotlib.pyplot as plt\n",
    "import seaborn as sns\n",
    "import numpy as np\n",
    "import random\n",
    "# from textwrap import wrap\n",
    "\n",
    "%matplotlib inline\n",
    "%run cleaning_demo.ipynb\n",
    "%run cleaning_web_data.ipynb\n",
    "%run cleaning_experiment_clients.ipynb\n",
    "\n",
    "df_demo = import_df_demo() # type: ignore\n",
    "df_web_data = import_df_web_data() # type: ignore\n",
    "df_experiment_clients = import_df_experiment_clients() # type: ignore\n"
   ]
  },
  {
   "cell_type": "code",
   "execution_count": null,
   "metadata": {},
   "outputs": [],
   "source": [
    "df_demo, df_web_data, df_experiment_clients"
   ]
  },
  {
   "cell_type": "code",
   "execution_count": null,
   "metadata": {},
   "outputs": [],
   "source": [
    "# Merge first two dataframes\n",
    "df_merge_1 = pd.merge(df_web_data, df_demo, on=\"client_id\", how=\"left\")\n",
    "\n",
    "# Merge resting dataframe\n",
    "df_merge_2 = pd.merge(df_merge_1, df_experiment_clients, on=\"client_id\", how=\"left\")\n",
    "\n",
    "df_merge_2"
   ]
  },
  {
   "cell_type": "code",
   "execution_count": null,
   "metadata": {},
   "outputs": [],
   "source": [
    "# Check random client_ids\n",
    "\n",
    "list_of_ids = df_merge_2[\"client_id\"].to_list()\n",
    "df_merge_2[df_merge_2[\"client_id\"] == random.choice(list_of_ids)]"
   ]
  },
  {
   "cell_type": "code",
   "execution_count": null,
   "metadata": {},
   "outputs": [],
   "source": [
    "# Check for NaN values count\n",
    "df_merge_2.isna().sum()"
   ]
  },
  {
   "cell_type": "code",
   "execution_count": null,
   "metadata": {},
   "outputs": [],
   "source": [
    "# Drop NaN values\n",
    "df_merge_2.dropna(how=\"any\", inplace=True)\n",
    "df_merge_2.reset_index(drop=True, inplace=True)\n",
    "\n",
    "df_merge_2"
   ]
  },
  {
   "cell_type": "code",
   "execution_count": 7,
   "metadata": {},
   "outputs": [],
   "source": [
    "# Rename dataframe to export\n",
    "df_join_clean = df_merge_2"
   ]
  },
  {
   "cell_type": "code",
   "execution_count": 8,
   "metadata": {},
   "outputs": [],
   "source": [
    "# create a dummy function to send to the exploration notebook\n",
    "def import_df_join_clean():\n",
    "    return (\n",
    "        df_join_clean\n",
    "        )"
   ]
  }
 ],
 "metadata": {
  "kernelspec": {
   "display_name": "second_project_eda",
   "language": "python",
   "name": "python3"
  },
  "language_info": {
   "codemirror_mode": {
    "name": "ipython",
    "version": 3
   },
   "file_extension": ".py",
   "mimetype": "text/x-python",
   "name": "python",
   "nbconvert_exporter": "python",
   "pygments_lexer": "ipython3",
   "version": "3.9.6"
  }
 },
 "nbformat": 4,
 "nbformat_minor": 2
}
