{
 "cells": [
  {
   "cell_type": "code",
   "execution_count": null,
   "metadata": {},
   "outputs": [],
   "source": [
    "import pandas as pd\n",
    "import matplotlib.pyplot as plt\n",
    "import seaborn as sns\n",
    "import numpy as np\n",
    "import random\n",
    "# from textwrap import wrap\n",
    "\n",
    "import functions as f\n",
    "\n",
    "%matplotlib inline\n",
    "\n",
    "# %run cleaning_demo.ipynb\n",
    "# %run cleaning_web_data.ipynb\n",
    "# %run cleaning_experiment_clients.ipynb\n",
    "\n",
    "# df_demo = import_df_demo() # type: ignore\n",
    "# df_web_data = import_df_web_data() # type: ignore\n",
    "# df_experiment_clients = import_df_experiment_clients() # type: ignore\n",
    "\n",
    "df_demo = pd.read_csv(\"../data/clean/df_demo_clean.csv\")\n",
    "df_web_data = pd.read_csv(\"../data/clean/df_web_data_clean.csv\")\n",
    "df_experiment_clients = pd.read_csv(\"../data/clean/df_experiment_clients_clean.csv\")"
   ]
  },
  {
   "cell_type": "code",
   "execution_count": null,
   "metadata": {},
   "outputs": [],
   "source": [
    "df_demo, df_web_data, df_experiment_clients\n",
    "\n",
    "df_demo.info()"
   ]
  },
  {
   "cell_type": "code",
   "execution_count": null,
   "metadata": {},
   "outputs": [],
   "source": [
    "# Merge first two dataframes\n",
    "df_merge_1 = pd.merge(df_web_data, df_demo, on=\"client_id\", how=\"left\")\n",
    "\n",
    "# Merge resting dataframe\n",
    "df_merge_2 = pd.merge(df_merge_1, df_experiment_clients, on=\"client_id\", how=\"left\")\n",
    "\n",
    "df_merge_2\n",
    "\n"
   ]
  },
  {
   "cell_type": "code",
   "execution_count": null,
   "metadata": {},
   "outputs": [],
   "source": [
    "df_merge_2.info()"
   ]
  },
  {
   "cell_type": "code",
   "execution_count": null,
   "metadata": {},
   "outputs": [],
   "source": [
    "# Check random client_ids\n",
    "\n",
    "list_of_ids = df_merge_2[\"client_id\"].to_list()\n",
    "df_merge_2[df_merge_2[\"client_id\"] == random.choice(list_of_ids)]"
   ]
  },
  {
   "cell_type": "code",
   "execution_count": null,
   "metadata": {},
   "outputs": [],
   "source": [
    "# Check for NaN values count\n",
    "df_merge_2.isna().sum()"
   ]
  },
  {
   "cell_type": "code",
   "execution_count": null,
   "metadata": {},
   "outputs": [],
   "source": [
    "# Drop NaN values\n",
    "df_merge_2.dropna(how=\"any\", inplace=True)\n",
    "df_merge_2.reset_index(drop=True, inplace=True)\n",
    "\n",
    "df_merge_2"
   ]
  },
  {
   "cell_type": "code",
   "execution_count": null,
   "metadata": {},
   "outputs": [],
   "source": [
    "# Cast floats as integers\n",
    "df_merge_2 = df_merge_2.astype({\n",
    "    \"clnt_tenure_yr\": \"int64\", \n",
    "    \"clnt_tenure_mnth\": \"int64\",\n",
    "    \"clnt_age\": \"int64\",\n",
    "    \"num_accts\": \"int64\",\n",
    "    \"calls_6_mnth\": \"int64\",\n",
    "    \"logons_6_mnth\": \"int64\"\n",
    "    })\n",
    "\n",
    "df_merge_2"
   ]
  },
  {
   "cell_type": "code",
   "execution_count": null,
   "metadata": {},
   "outputs": [],
   "source": [
    "# Cast date_time as datetime\n",
    "df_merge_2['date_time'] = pd.to_datetime(df_merge_2['date_time'])\n",
    "df_merge_2 = df_merge_2.sort_values(by=[\"client_id\",\"date_time\"], ascending=[True,True])\n",
    "df_merge_2"
   ]
  },
  {
   "cell_type": "code",
   "execution_count": null,
   "metadata": {},
   "outputs": [],
   "source": [
    "# Round Balance (bal) to 2 decimals\n",
    "df_merge_2['bal'] = df_merge_2['bal'].apply(lambda x: round(x, 2))\n",
    "df_merge_2"
   ]
  },
  {
   "cell_type": "code",
   "execution_count": null,
   "metadata": {},
   "outputs": [],
   "source": [
    "#Added session started and completed columns.\n",
    "df_merge_2['session_completed'] = (df_merge_2['process_step'] == 4).astype(int)\n",
    "df_merge_2['session_started'] = ((df_merge_2['process_step'] == 0) & ~df_merge_2.duplicated(subset=['visit_id', 'process_step'], keep='first')).astype(int)\n",
    "\n",
    "df_step_4 = df_merge_2[df_merge_2['process_step'] == 4]\n",
    "df_step_4_sorted = df_step_4.sort_values(by='date_time', ascending=True)\n",
    "df_step_4_cleaned = df_step_4_sorted.drop_duplicates(subset=['client_id', 'visit_id', 'visitor_id'], keep='first')\n",
    "df_non_step_4 = df_merge_2[df_merge_2['process_step'] != 4]\n",
    "df_merge_2 = pd.concat([df_non_step_4, df_step_4_cleaned])\n",
    "df_merge_2 = df_merge_2.reset_index(drop=True)"
   ]
  },
  {
   "cell_type": "code",
   "execution_count": null,
   "metadata": {},
   "outputs": [],
   "source": [
    "#Created different DF for error rate.\n",
    "merged_grouped =df_merge_2.groupby(['client_id', 'visit_id', 'visitor_id','Variation'])['process_step'].apply(list).reset_index()\n",
    "\n",
    "# create new column as error rate and apply the method on all clients in dataframe\n",
    "merged_grouped['error_rate'] = merged_grouped.apply(\n",
    "    lambda row: f.backward_steps_for_client(row['process_step'], row['client_id'],row['Variation'])[row['client_id']],\n",
    "    axis=1  # Process each row individually\n",
    ")"
   ]
  },
  {
   "cell_type": "code",
   "execution_count": null,
   "metadata": {},
   "outputs": [],
   "source": [
    "# Rename dataframe to export\n",
    "df_join_clean = df_merge_2"
   ]
  },
  {
   "cell_type": "code",
   "execution_count": null,
   "metadata": {},
   "outputs": [],
   "source": [
    "# Evaluates funnel conversion. Step progresion status.\n",
    "\n",
    "df_join_clean['steps_status'] = None\n",
    "previous_visit_id = None\n",
    "previous_value = None\n",
    "\n",
    "for i in range(len(df_join_clean)):\n",
    "    current_visit_id = df_join_clean.iloc[i][\"visit_id\"]\n",
    "    current_value = df_join_clean.iloc[i][\"process_step\"]\n",
    "\n",
    "    if current_value == 0:\n",
    "        df_join_clean.iloc[i, df_join_clean.columns.get_loc('steps_status')] = 0\n",
    "    else:\n",
    "        if previous_value > current_value:\n",
    "            df_join_clean.iloc[i, df_join_clean.columns.get_loc('steps_status')] = -1\n",
    "        if previous_value == current_value:\n",
    "            df_join_clean.iloc[i, df_join_clean.columns.get_loc('steps_status')] = 0\n",
    "        if previous_value < current_value:\n",
    "            df_join_clean.iloc[i, df_join_clean.columns.get_loc('steps_status')] = 1\n",
    "        # if current_value == 4:\n",
    "        #     df_join_clean.iloc[i, df_join_clean.columns.get_loc('steps_status')] = \"confirm\"\n",
    "    \n",
    "    previous_value = current_value\n",
    "\n",
    "display(df_join_clean)"
   ]
  },
  {
   "cell_type": "code",
   "execution_count": null,
   "metadata": {},
   "outputs": [],
   "source": [
    "# Save to csv\n",
    "f.save_to_csv(df_join_clean, \"df_join_clean.csv\")\n",
    "f.save_to_csv(merged_grouped,\"both_groups_error_rate.csv\")"
   ]
  },
  {
   "cell_type": "code",
   "execution_count": null,
   "metadata": {},
   "outputs": [],
   "source": [
    "# create a dummy function to export dataframe directly\n",
    "def import_df_join_clean():\n",
    "    return (\n",
    "        df_join_clean\n",
    "        )"
   ]
  },
  {
   "cell_type": "code",
   "execution_count": null,
   "metadata": {},
   "outputs": [],
   "source": []
  }
 ],
 "metadata": {
  "kernelspec": {
   "display_name": "Python 3 (ipykernel)",
   "language": "python",
   "name": "python3"
  },
  "language_info": {
   "codemirror_mode": {
    "name": "ipython",
    "version": 3
   },
   "file_extension": ".py",
   "mimetype": "text/x-python",
   "name": "python",
   "nbconvert_exporter": "python",
   "pygments_lexer": "ipython3",
   "version": "3.9.6"
  }
 },
 "nbformat": 4,
 "nbformat_minor": 4
}
