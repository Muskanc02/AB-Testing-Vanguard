{
 "cells": [
  {
   "cell_type": "code",
   "execution_count": 21,
   "metadata": {},
   "outputs": [
    {
     "name": "stdout",
     "output_type": "stream",
     "text": [
      "6\n",
      "DataFrame successfully saved to ../data/clean/df_demo_clean.csv\n"
     ]
    }
   ],
   "source": [
    "import pandas as pd\n",
    "import matplotlib.pyplot as plt\n",
    "import seaborn as sns\n",
    "import numpy as np\n",
    "# from textwrap import wrap\n",
    "\n",
    "%matplotlib inline\n",
    "%run cleaning_demo.ipynb\n",
    "# %run cleaning_web_data.ipynb\n",
    "# %run cleaning_experiment_clients.ipynb\n",
    "\n",
    "df_demo = import_df_demo() # type: ignore\n",
    "# df_web_data = import_df_web_data() # type: ignore\n",
    "# df_experiment_clients = import_df_experiment_clients() # type: ignore\n"
   ]
  },
  {
   "cell_type": "code",
   "execution_count": 22,
   "metadata": {},
   "outputs": [
    {
     "data": {
      "text/html": [
       "<div>\n",
       "<style scoped>\n",
       "    .dataframe tbody tr th:only-of-type {\n",
       "        vertical-align: middle;\n",
       "    }\n",
       "\n",
       "    .dataframe tbody tr th {\n",
       "        vertical-align: top;\n",
       "    }\n",
       "\n",
       "    .dataframe thead th {\n",
       "        text-align: right;\n",
       "    }\n",
       "</style>\n",
       "<table border=\"1\" class=\"dataframe\">\n",
       "  <thead>\n",
       "    <tr style=\"text-align: right;\">\n",
       "      <th></th>\n",
       "      <th>client_id</th>\n",
       "      <th>clnt_tenure_yr</th>\n",
       "      <th>clnt_tenure_mnth</th>\n",
       "      <th>clnt_age</th>\n",
       "      <th>gendr</th>\n",
       "      <th>num_accts</th>\n",
       "      <th>bal</th>\n",
       "      <th>calls_6_mnth</th>\n",
       "      <th>logons_6_mnth</th>\n",
       "      <th>tenure</th>\n",
       "      <th>age_group</th>\n",
       "      <th>bal_category_3</th>\n",
       "      <th>bal_category_2</th>\n",
       "    </tr>\n",
       "  </thead>\n",
       "  <tbody>\n",
       "    <tr>\n",
       "      <th>0</th>\n",
       "      <td>836976</td>\n",
       "      <td>6</td>\n",
       "      <td>73</td>\n",
       "      <td>61</td>\n",
       "      <td>U</td>\n",
       "      <td>2</td>\n",
       "      <td>45105.30</td>\n",
       "      <td>6</td>\n",
       "      <td>9</td>\n",
       "      <td>New Client</td>\n",
       "      <td>Senior</td>\n",
       "      <td>Low</td>\n",
       "      <td>Low</td>\n",
       "    </tr>\n",
       "    <tr>\n",
       "      <th>1</th>\n",
       "      <td>2304905</td>\n",
       "      <td>7</td>\n",
       "      <td>94</td>\n",
       "      <td>58</td>\n",
       "      <td>U</td>\n",
       "      <td>2</td>\n",
       "      <td>110860.30</td>\n",
       "      <td>6</td>\n",
       "      <td>9</td>\n",
       "      <td>Long Standing Client</td>\n",
       "      <td>Senior</td>\n",
       "      <td>Medium</td>\n",
       "      <td>High</td>\n",
       "    </tr>\n",
       "    <tr>\n",
       "      <th>2</th>\n",
       "      <td>1439522</td>\n",
       "      <td>5</td>\n",
       "      <td>64</td>\n",
       "      <td>32</td>\n",
       "      <td>U</td>\n",
       "      <td>2</td>\n",
       "      <td>52467.79</td>\n",
       "      <td>6</td>\n",
       "      <td>9</td>\n",
       "      <td>New Client</td>\n",
       "      <td>Adults</td>\n",
       "      <td>Low</td>\n",
       "      <td>Low</td>\n",
       "    </tr>\n",
       "    <tr>\n",
       "      <th>3</th>\n",
       "      <td>1562045</td>\n",
       "      <td>16</td>\n",
       "      <td>198</td>\n",
       "      <td>49</td>\n",
       "      <td>M</td>\n",
       "      <td>2</td>\n",
       "      <td>67454.65</td>\n",
       "      <td>3</td>\n",
       "      <td>6</td>\n",
       "      <td>Long Standing Client</td>\n",
       "      <td>Adults</td>\n",
       "      <td>Low</td>\n",
       "      <td>Low</td>\n",
       "    </tr>\n",
       "    <tr>\n",
       "      <th>4</th>\n",
       "      <td>5126305</td>\n",
       "      <td>12</td>\n",
       "      <td>145</td>\n",
       "      <td>33</td>\n",
       "      <td>F</td>\n",
       "      <td>2</td>\n",
       "      <td>103671.75</td>\n",
       "      <td>0</td>\n",
       "      <td>3</td>\n",
       "      <td>Long Standing Client</td>\n",
       "      <td>Adults</td>\n",
       "      <td>Medium</td>\n",
       "      <td>High</td>\n",
       "    </tr>\n",
       "    <tr>\n",
       "      <th>...</th>\n",
       "      <td>...</td>\n",
       "      <td>...</td>\n",
       "      <td>...</td>\n",
       "      <td>...</td>\n",
       "      <td>...</td>\n",
       "      <td>...</td>\n",
       "      <td>...</td>\n",
       "      <td>...</td>\n",
       "      <td>...</td>\n",
       "      <td>...</td>\n",
       "      <td>...</td>\n",
       "      <td>...</td>\n",
       "      <td>...</td>\n",
       "    </tr>\n",
       "    <tr>\n",
       "      <th>70604</th>\n",
       "      <td>7993686</td>\n",
       "      <td>4</td>\n",
       "      <td>56</td>\n",
       "      <td>39</td>\n",
       "      <td>U</td>\n",
       "      <td>3</td>\n",
       "      <td>1411062.68</td>\n",
       "      <td>5</td>\n",
       "      <td>5</td>\n",
       "      <td>New Client</td>\n",
       "      <td>Adults</td>\n",
       "      <td>High</td>\n",
       "      <td>High</td>\n",
       "    </tr>\n",
       "    <tr>\n",
       "      <th>70605</th>\n",
       "      <td>8981690</td>\n",
       "      <td>12</td>\n",
       "      <td>148</td>\n",
       "      <td>31</td>\n",
       "      <td>M</td>\n",
       "      <td>2</td>\n",
       "      <td>101867.07</td>\n",
       "      <td>6</td>\n",
       "      <td>6</td>\n",
       "      <td>Long Standing Client</td>\n",
       "      <td>Adults</td>\n",
       "      <td>Medium</td>\n",
       "      <td>High</td>\n",
       "    </tr>\n",
       "    <tr>\n",
       "      <th>70606</th>\n",
       "      <td>333913</td>\n",
       "      <td>16</td>\n",
       "      <td>198</td>\n",
       "      <td>62</td>\n",
       "      <td>F</td>\n",
       "      <td>2</td>\n",
       "      <td>40745.00</td>\n",
       "      <td>3</td>\n",
       "      <td>3</td>\n",
       "      <td>Long Standing Client</td>\n",
       "      <td>Senior</td>\n",
       "      <td>Low</td>\n",
       "      <td>Low</td>\n",
       "    </tr>\n",
       "    <tr>\n",
       "      <th>70607</th>\n",
       "      <td>1573142</td>\n",
       "      <td>21</td>\n",
       "      <td>255</td>\n",
       "      <td>68</td>\n",
       "      <td>M</td>\n",
       "      <td>3</td>\n",
       "      <td>475114.69</td>\n",
       "      <td>4</td>\n",
       "      <td>4</td>\n",
       "      <td>Long Standing Client</td>\n",
       "      <td>Senior</td>\n",
       "      <td>Medium</td>\n",
       "      <td>High</td>\n",
       "    </tr>\n",
       "    <tr>\n",
       "      <th>70608</th>\n",
       "      <td>5602139</td>\n",
       "      <td>21</td>\n",
       "      <td>254</td>\n",
       "      <td>60</td>\n",
       "      <td>F</td>\n",
       "      <td>3</td>\n",
       "      <td>157498.73</td>\n",
       "      <td>7</td>\n",
       "      <td>7</td>\n",
       "      <td>Long Standing Client</td>\n",
       "      <td>Senior</td>\n",
       "      <td>Medium</td>\n",
       "      <td>High</td>\n",
       "    </tr>\n",
       "  </tbody>\n",
       "</table>\n",
       "<p>70081 rows × 13 columns</p>\n",
       "</div>"
      ],
      "text/plain": [
       "       client_id  clnt_tenure_yr  clnt_tenure_mnth  clnt_age gendr  num_accts  \\\n",
       "0         836976               6                73        61     U          2   \n",
       "1        2304905               7                94        58     U          2   \n",
       "2        1439522               5                64        32     U          2   \n",
       "3        1562045              16               198        49     M          2   \n",
       "4        5126305              12               145        33     F          2   \n",
       "...          ...             ...               ...       ...   ...        ...   \n",
       "70604    7993686               4                56        39     U          3   \n",
       "70605    8981690              12               148        31     M          2   \n",
       "70606     333913              16               198        62     F          2   \n",
       "70607    1573142              21               255        68     M          3   \n",
       "70608    5602139              21               254        60     F          3   \n",
       "\n",
       "              bal  calls_6_mnth  logons_6_mnth                tenure  \\\n",
       "0        45105.30             6              9            New Client   \n",
       "1       110860.30             6              9  Long Standing Client   \n",
       "2        52467.79             6              9            New Client   \n",
       "3        67454.65             3              6  Long Standing Client   \n",
       "4       103671.75             0              3  Long Standing Client   \n",
       "...           ...           ...            ...                   ...   \n",
       "70604  1411062.68             5              5            New Client   \n",
       "70605   101867.07             6              6  Long Standing Client   \n",
       "70606    40745.00             3              3  Long Standing Client   \n",
       "70607   475114.69             4              4  Long Standing Client   \n",
       "70608   157498.73             7              7  Long Standing Client   \n",
       "\n",
       "      age_group bal_category_3 bal_category_2  \n",
       "0        Senior            Low            Low  \n",
       "1        Senior         Medium           High  \n",
       "2        Adults            Low            Low  \n",
       "3        Adults            Low            Low  \n",
       "4        Adults         Medium           High  \n",
       "...         ...            ...            ...  \n",
       "70604    Adults           High           High  \n",
       "70605    Adults         Medium           High  \n",
       "70606    Senior            Low            Low  \n",
       "70607    Senior         Medium           High  \n",
       "70608    Senior         Medium           High  \n",
       "\n",
       "[70081 rows x 13 columns]"
      ]
     },
     "execution_count": 22,
     "metadata": {},
     "output_type": "execute_result"
    }
   ],
   "source": [
    "df_demo"
   ]
  },
  {
   "cell_type": "code",
   "execution_count": 23,
   "metadata": {},
   "outputs": [
    {
     "data": {
      "text/html": [
       "<div>\n",
       "<style scoped>\n",
       "    .dataframe tbody tr th:only-of-type {\n",
       "        vertical-align: middle;\n",
       "    }\n",
       "\n",
       "    .dataframe tbody tr th {\n",
       "        vertical-align: top;\n",
       "    }\n",
       "\n",
       "    .dataframe thead th {\n",
       "        text-align: right;\n",
       "    }\n",
       "</style>\n",
       "<table border=\"1\" class=\"dataframe\">\n",
       "  <thead>\n",
       "    <tr style=\"text-align: right;\">\n",
       "      <th></th>\n",
       "      <th>clnt_tenure_yr</th>\n",
       "      <th>clnt_tenure_mnth</th>\n",
       "      <th>clnt_age</th>\n",
       "      <th>num_accts</th>\n",
       "      <th>bal</th>\n",
       "      <th>calls_6_mnth</th>\n",
       "      <th>logons_6_mnth</th>\n",
       "    </tr>\n",
       "  </thead>\n",
       "  <tbody>\n",
       "    <tr>\n",
       "      <th>0</th>\n",
       "      <td>6</td>\n",
       "      <td>73</td>\n",
       "      <td>61</td>\n",
       "      <td>2</td>\n",
       "      <td>45105.30</td>\n",
       "      <td>6</td>\n",
       "      <td>9</td>\n",
       "    </tr>\n",
       "    <tr>\n",
       "      <th>1</th>\n",
       "      <td>7</td>\n",
       "      <td>94</td>\n",
       "      <td>58</td>\n",
       "      <td>2</td>\n",
       "      <td>110860.30</td>\n",
       "      <td>6</td>\n",
       "      <td>9</td>\n",
       "    </tr>\n",
       "    <tr>\n",
       "      <th>2</th>\n",
       "      <td>5</td>\n",
       "      <td>64</td>\n",
       "      <td>32</td>\n",
       "      <td>2</td>\n",
       "      <td>52467.79</td>\n",
       "      <td>6</td>\n",
       "      <td>9</td>\n",
       "    </tr>\n",
       "    <tr>\n",
       "      <th>3</th>\n",
       "      <td>16</td>\n",
       "      <td>198</td>\n",
       "      <td>49</td>\n",
       "      <td>2</td>\n",
       "      <td>67454.65</td>\n",
       "      <td>3</td>\n",
       "      <td>6</td>\n",
       "    </tr>\n",
       "    <tr>\n",
       "      <th>4</th>\n",
       "      <td>12</td>\n",
       "      <td>145</td>\n",
       "      <td>33</td>\n",
       "      <td>2</td>\n",
       "      <td>103671.75</td>\n",
       "      <td>0</td>\n",
       "      <td>3</td>\n",
       "    </tr>\n",
       "    <tr>\n",
       "      <th>...</th>\n",
       "      <td>...</td>\n",
       "      <td>...</td>\n",
       "      <td>...</td>\n",
       "      <td>...</td>\n",
       "      <td>...</td>\n",
       "      <td>...</td>\n",
       "      <td>...</td>\n",
       "    </tr>\n",
       "    <tr>\n",
       "      <th>70604</th>\n",
       "      <td>4</td>\n",
       "      <td>56</td>\n",
       "      <td>39</td>\n",
       "      <td>3</td>\n",
       "      <td>1411062.68</td>\n",
       "      <td>5</td>\n",
       "      <td>5</td>\n",
       "    </tr>\n",
       "    <tr>\n",
       "      <th>70605</th>\n",
       "      <td>12</td>\n",
       "      <td>148</td>\n",
       "      <td>31</td>\n",
       "      <td>2</td>\n",
       "      <td>101867.07</td>\n",
       "      <td>6</td>\n",
       "      <td>6</td>\n",
       "    </tr>\n",
       "    <tr>\n",
       "      <th>70606</th>\n",
       "      <td>16</td>\n",
       "      <td>198</td>\n",
       "      <td>62</td>\n",
       "      <td>2</td>\n",
       "      <td>40745.00</td>\n",
       "      <td>3</td>\n",
       "      <td>3</td>\n",
       "    </tr>\n",
       "    <tr>\n",
       "      <th>70607</th>\n",
       "      <td>21</td>\n",
       "      <td>255</td>\n",
       "      <td>68</td>\n",
       "      <td>3</td>\n",
       "      <td>475114.69</td>\n",
       "      <td>4</td>\n",
       "      <td>4</td>\n",
       "    </tr>\n",
       "    <tr>\n",
       "      <th>70608</th>\n",
       "      <td>21</td>\n",
       "      <td>254</td>\n",
       "      <td>60</td>\n",
       "      <td>3</td>\n",
       "      <td>157498.73</td>\n",
       "      <td>7</td>\n",
       "      <td>7</td>\n",
       "    </tr>\n",
       "  </tbody>\n",
       "</table>\n",
       "<p>70081 rows × 7 columns</p>\n",
       "</div>"
      ],
      "text/plain": [
       "       clnt_tenure_yr  clnt_tenure_mnth  clnt_age  num_accts         bal  \\\n",
       "0                   6                73        61          2    45105.30   \n",
       "1                   7                94        58          2   110860.30   \n",
       "2                   5                64        32          2    52467.79   \n",
       "3                  16               198        49          2    67454.65   \n",
       "4                  12               145        33          2   103671.75   \n",
       "...               ...               ...       ...        ...         ...   \n",
       "70604               4                56        39          3  1411062.68   \n",
       "70605              12               148        31          2   101867.07   \n",
       "70606              16               198        62          2    40745.00   \n",
       "70607              21               255        68          3   475114.69   \n",
       "70608              21               254        60          3   157498.73   \n",
       "\n",
       "       calls_6_mnth  logons_6_mnth  \n",
       "0                 6              9  \n",
       "1                 6              9  \n",
       "2                 6              9  \n",
       "3                 3              6  \n",
       "4                 0              3  \n",
       "...             ...            ...  \n",
       "70604             5              5  \n",
       "70605             6              6  \n",
       "70606             3              3  \n",
       "70607             4              4  \n",
       "70608             7              7  \n",
       "\n",
       "[70081 rows x 7 columns]"
      ]
     },
     "execution_count": 23,
     "metadata": {},
     "output_type": "execute_result"
    }
   ],
   "source": [
    "# Numerical Columns\n",
    "df_numerical = df_demo[[\"clnt_tenure_yr\", \"clnt_tenure_mnth\", \"clnt_age\", \"num_accts\", \"bal\", \"calls_6_mnth\", \"logons_6_mnth\"]]\n",
    "df_numerical"
   ]
  },
  {
   "cell_type": "code",
   "execution_count": 24,
   "metadata": {},
   "outputs": [
    {
     "data": {
      "text/html": [
       "<div>\n",
       "<style scoped>\n",
       "    .dataframe tbody tr th:only-of-type {\n",
       "        vertical-align: middle;\n",
       "    }\n",
       "\n",
       "    .dataframe tbody tr th {\n",
       "        vertical-align: top;\n",
       "    }\n",
       "\n",
       "    .dataframe thead th {\n",
       "        text-align: right;\n",
       "    }\n",
       "</style>\n",
       "<table border=\"1\" class=\"dataframe\">\n",
       "  <thead>\n",
       "    <tr style=\"text-align: right;\">\n",
       "      <th></th>\n",
       "      <th>clnt_tenure_yr</th>\n",
       "      <th>clnt_tenure_mnth</th>\n",
       "      <th>clnt_age</th>\n",
       "      <th>num_accts</th>\n",
       "      <th>bal</th>\n",
       "      <th>calls_6_mnth</th>\n",
       "      <th>logons_6_mnth</th>\n",
       "    </tr>\n",
       "  </thead>\n",
       "  <tbody>\n",
       "    <tr>\n",
       "      <th>count</th>\n",
       "      <td>70081.000000</td>\n",
       "      <td>70081.000000</td>\n",
       "      <td>70081.000000</td>\n",
       "      <td>70081.000000</td>\n",
       "      <td>7.008100e+04</td>\n",
       "      <td>70081.000000</td>\n",
       "      <td>70081.000000</td>\n",
       "    </tr>\n",
       "    <tr>\n",
       "      <th>mean</th>\n",
       "      <td>11.948845</td>\n",
       "      <td>149.415904</td>\n",
       "      <td>46.881352</td>\n",
       "      <td>2.255148</td>\n",
       "      <td>1.479403e+05</td>\n",
       "      <td>3.382015</td>\n",
       "      <td>5.569641</td>\n",
       "    </tr>\n",
       "    <tr>\n",
       "      <th>std</th>\n",
       "      <td>6.765241</td>\n",
       "      <td>80.816791</td>\n",
       "      <td>15.496608</td>\n",
       "      <td>0.534734</td>\n",
       "      <td>3.023851e+05</td>\n",
       "      <td>2.237282</td>\n",
       "      <td>2.353233</td>\n",
       "    </tr>\n",
       "    <tr>\n",
       "      <th>min</th>\n",
       "      <td>2.000000</td>\n",
       "      <td>33.000000</td>\n",
       "      <td>14.000000</td>\n",
       "      <td>1.000000</td>\n",
       "      <td>1.378942e+04</td>\n",
       "      <td>0.000000</td>\n",
       "      <td>1.000000</td>\n",
       "    </tr>\n",
       "    <tr>\n",
       "      <th>25%</th>\n",
       "      <td>6.000000</td>\n",
       "      <td>81.000000</td>\n",
       "      <td>33.000000</td>\n",
       "      <td>2.000000</td>\n",
       "      <td>3.745437e+04</td>\n",
       "      <td>1.000000</td>\n",
       "      <td>4.000000</td>\n",
       "    </tr>\n",
       "    <tr>\n",
       "      <th>50%</th>\n",
       "      <td>11.000000</td>\n",
       "      <td>135.000000</td>\n",
       "      <td>48.000000</td>\n",
       "      <td>2.000000</td>\n",
       "      <td>6.355371e+04</td>\n",
       "      <td>3.000000</td>\n",
       "      <td>5.000000</td>\n",
       "    </tr>\n",
       "    <tr>\n",
       "      <th>75%</th>\n",
       "      <td>15.000000</td>\n",
       "      <td>191.000000</td>\n",
       "      <td>59.000000</td>\n",
       "      <td>2.000000</td>\n",
       "      <td>1.380282e+05</td>\n",
       "      <td>6.000000</td>\n",
       "      <td>7.000000</td>\n",
       "    </tr>\n",
       "    <tr>\n",
       "      <th>max</th>\n",
       "      <td>55.000000</td>\n",
       "      <td>669.000000</td>\n",
       "      <td>96.000000</td>\n",
       "      <td>8.000000</td>\n",
       "      <td>1.632004e+07</td>\n",
       "      <td>7.000000</td>\n",
       "      <td>9.000000</td>\n",
       "    </tr>\n",
       "  </tbody>\n",
       "</table>\n",
       "</div>"
      ],
      "text/plain": [
       "       clnt_tenure_yr  clnt_tenure_mnth      clnt_age     num_accts  \\\n",
       "count    70081.000000      70081.000000  70081.000000  70081.000000   \n",
       "mean        11.948845        149.415904     46.881352      2.255148   \n",
       "std          6.765241         80.816791     15.496608      0.534734   \n",
       "min          2.000000         33.000000     14.000000      1.000000   \n",
       "25%          6.000000         81.000000     33.000000      2.000000   \n",
       "50%         11.000000        135.000000     48.000000      2.000000   \n",
       "75%         15.000000        191.000000     59.000000      2.000000   \n",
       "max         55.000000        669.000000     96.000000      8.000000   \n",
       "\n",
       "                bal  calls_6_mnth  logons_6_mnth  \n",
       "count  7.008100e+04  70081.000000   70081.000000  \n",
       "mean   1.479403e+05      3.382015       5.569641  \n",
       "std    3.023851e+05      2.237282       2.353233  \n",
       "min    1.378942e+04      0.000000       1.000000  \n",
       "25%    3.745437e+04      1.000000       4.000000  \n",
       "50%    6.355371e+04      3.000000       5.000000  \n",
       "75%    1.380282e+05      6.000000       7.000000  \n",
       "max    1.632004e+07      7.000000       9.000000  "
      ]
     },
     "execution_count": 24,
     "metadata": {},
     "output_type": "execute_result"
    }
   ],
   "source": [
    "df_numerical.describe()"
   ]
  },
  {
   "cell_type": "markdown",
   "metadata": {},
   "source": [
    "## Gender Analysis"
   ]
  },
  {
   "cell_type": "code",
   "execution_count": 25,
   "metadata": {},
   "outputs": [
    {
     "data": {
      "text/plain": [
       "(gendr\n",
       " U    24082\n",
       " M    23469\n",
       " F    22527\n",
       " X        3\n",
       " Name: count, dtype: int64,\n",
       " gendr\n",
       " U    0.343631\n",
       " M    0.334884\n",
       " F    0.321442\n",
       " X    0.000043\n",
       " Name: proportion, dtype: float64)"
      ]
     },
     "execution_count": 25,
     "metadata": {},
     "output_type": "execute_result"
    }
   ],
   "source": [
    "def multiple_value_counts(df, list):\n",
    "    for serie in list:\n",
    "        # Frequency table for 'MSZoning'\n",
    "        frequency_table = df[serie].value_counts()\n",
    "\n",
    "        # Calculating the proportion of each unique value in the 'MSZoning'\n",
    "        proportion_table = df[serie].value_counts(normalize=True)\n",
    "\n",
    "        return frequency_table, proportion_table\n",
    "\n",
    "multiple_value_counts(df_demo, [\"gendr\"])"
   ]
  },
  {
   "cell_type": "code",
   "execution_count": 26,
   "metadata": {},
   "outputs": [
    {
     "data": {
      "text/plain": [
       "(gendr\n",
       " M    806\n",
       " F    254\n",
       " U    117\n",
       " Name: count, dtype: int64,\n",
       " gendr\n",
       " M    0.684792\n",
       " F    0.215803\n",
       " U    0.099405\n",
       " Name: proportion, dtype: float64)"
      ]
     },
     "execution_count": 26,
     "metadata": {},
     "output_type": "execute_result"
    }
   ],
   "source": [
    "multiple_value_counts(df_demo[df_demo[\"bal\"] > 1000000], [\"gendr\"])\n"
   ]
  },
  {
   "cell_type": "code",
   "execution_count": 27,
   "metadata": {},
   "outputs": [
    {
     "data": {
      "image/png": "[encoded data removed]",
      "text/plain": [
       "<Figure size 1500x2000 with 9 Axes>"
      ]
     },
     "metadata": {},
     "output_type": "display_data"
    }
   ],
   "source": [
    "# Creating histograms for each numerical column in 'df_numerical'\n",
    "df_numerical.hist(figsize=(15, 20), bins=60, xlabelsize=10, ylabelsize=10)\n",
    "plt.show()"
   ]
  },
  {
   "cell_type": "markdown",
   "metadata": {},
   "source": [
    "## Balance Analysis"
   ]
  },
  {
   "cell_type": "code",
   "execution_count": 28,
   "metadata": {},
   "outputs": [
    {
     "data": {
      "image/png": "[encoded data removed]",
      "text/plain": [
       "<Figure size 640x480 with 1 Axes>"
      ]
     },
     "metadata": {},
     "output_type": "display_data"
    }
   ],
   "source": [
    "# Plotting a boxplot for the 'SalePrice' column with a light blue color\n",
    "sns.boxplot(x = df_demo[\"bal\"], color=\"lightblue\")\n",
    "plt.show()"
   ]
  },
  {
   "cell_type": "code",
   "execution_count": 29,
   "metadata": {},
   "outputs": [
    {
     "data": {
      "image/png": "[encoded data removed]",
      "text/plain": [
       "<Figure size 640x480 with 1 Axes>"
      ]
     },
     "metadata": {},
     "output_type": "display_data"
    }
   ],
   "source": [
    "df_demo_test_boxplot = df_demo[df_demo[\"bal\"] < 1000000]\n",
    "\n",
    "sns.boxplot(x = df_demo_test_boxplot[\"bal\"], color=\"lightblue\")\n",
    "plt.show()"
   ]
  },
  {
   "cell_type": "code",
   "execution_count": 30,
   "metadata": {},
   "outputs": [
    {
     "data": {
      "image/png": "[encoded data removed]",
      "text/plain": [
       "<Figure size 640x480 with 1 Axes>"
      ]
     },
     "metadata": {},
     "output_type": "display_data"
    }
   ],
   "source": [
    "sns.histplot(df_demo[df_demo[\"bal\"] < 1000000][\"bal\"], kde=True, bins=30, color=\"salmon\")\n",
    "plt.show()"
   ]
  },
  {
   "cell_type": "code",
   "execution_count": 31,
   "metadata": {},
   "outputs": [
    {
     "data": {
      "text/plain": [
       "count     68904.000000\n",
       "mean     119205.604347\n",
       "std      146791.120297\n",
       "min       13789.420000\n",
       "25%       37136.190000\n",
       "50%       62256.290000\n",
       "75%      131178.655000\n",
       "max      999154.490000\n",
       "Name: bal, dtype: float64"
      ]
     },
     "execution_count": 31,
     "metadata": {},
     "output_type": "execute_result"
    }
   ],
   "source": [
    "df_demo[df_demo[\"bal\"] < 1000000][\"bal\"].describe()"
   ]
  },
  {
   "cell_type": "code",
   "execution_count": 32,
   "metadata": {},
   "outputs": [
    {
     "data": {
      "text/plain": [
       "count    7.008100e+04\n",
       "mean     1.479403e+05\n",
       "std      3.023851e+05\n",
       "min      1.378942e+04\n",
       "25%      3.745437e+04\n",
       "50%      6.355371e+04\n",
       "75%      1.380282e+05\n",
       "max      1.632004e+07\n",
       "Name: bal, dtype: float64"
      ]
     },
     "execution_count": 32,
     "metadata": {},
     "output_type": "execute_result"
    }
   ],
   "source": [
    "# Full Balance Stats\n",
    "df_demo[\"bal\"].describe()"
   ]
  },
  {
   "cell_type": "code",
   "execution_count": 33,
   "metadata": {},
   "outputs": [
    {
     "name": "stdout",
     "output_type": "stream",
     "text": [
      "10367803508.66\n"
     ]
    }
   ],
   "source": [
    "full_balance = df_demo[\"bal\"].sum()\n",
    "print(full_balance)"
   ]
  },
  {
   "cell_type": "code",
   "execution_count": 34,
   "metadata": {},
   "outputs": [
    {
     "data": {
      "text/plain": [
       "np.float64(2154060546.7)"
      ]
     },
     "execution_count": 34,
     "metadata": {},
     "output_type": "execute_result"
    }
   ],
   "source": [
    "top_mill = df_demo[df_demo[\"bal\"] > 1000000][\"bal\"].sum()\n",
    "top_mill"
   ]
  },
  {
   "cell_type": "code",
   "execution_count": 35,
   "metadata": {},
   "outputs": [
    {
     "data": {
      "text/plain": [
       "np.float64(5965156441.34)"
      ]
     },
     "execution_count": 35,
     "metadata": {},
     "output_type": "execute_result"
    }
   ],
   "source": [
    "medium_group_bal = df_demo[(100000 < df_demo[\"bal\"]) & (df_demo[\"bal\"] < 1000000)][\"bal\"].sum()\n",
    "medium_group_bal"
   ]
  },
  {
   "cell_type": "code",
   "execution_count": 36,
   "metadata": {},
   "outputs": [
    {
     "data": {
      "text/plain": [
       "np.float64(2248586520.62)"
      ]
     },
     "execution_count": 36,
     "metadata": {},
     "output_type": "execute_result"
    }
   ],
   "source": [
    "low_group_bal = df_demo[100000 > df_demo[\"bal\"]][\"bal\"].sum()\n",
    "low_group_bal"
   ]
  },
  {
   "cell_type": "code",
   "execution_count": 37,
   "metadata": {},
   "outputs": [
    {
     "name": "stdout",
     "output_type": "stream",
     "text": [
      "0.2077644068872216\n",
      "0.5753539249039042\n",
      "0.2168816682088742\n"
     ]
    }
   ],
   "source": [
    "proportion_balance_high = top_mill / full_balance\n",
    "print(proportion_balance_high)\n",
    "\n",
    "proportion_balance_medium = medium_group_bal / full_balance\n",
    "print(proportion_balance_medium)\n",
    "\n",
    "proportion_balance_low = low_group_bal / full_balance\n",
    "print(proportion_balance_low)"
   ]
  },
  {
   "cell_type": "markdown",
   "metadata": {},
   "source": [
    "## Exporting Dataframes"
   ]
  },
  {
   "cell_type": "code",
   "execution_count": null,
   "metadata": {},
   "outputs": [],
   "source": [
    "# create a dummy function to export dataframe directly\n",
    "def import_df_explore_demo():\n",
    "    return (\n",
    "       #\n",
    "        )"
   ]
  }
 ],
 "metadata": {
  "kernelspec": {
   "display_name": "second_project_eda",
   "language": "python",
   "name": "python3"
  },
  "language_info": {
   "codemirror_mode": {
    "name": "ipython",
    "version": 3
   },
   "file_extension": ".py",
   "mimetype": "text/x-python",
   "name": "python",
   "nbconvert_exporter": "python",
   "pygments_lexer": "ipython3",
   "version": "3.9.6"
  }
 },
 "nbformat": 4,
 "nbformat_minor": 2
}
