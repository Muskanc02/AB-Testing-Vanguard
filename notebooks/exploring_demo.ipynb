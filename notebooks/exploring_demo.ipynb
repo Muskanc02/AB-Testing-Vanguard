{
 "cells": [
  {
   "cell_type": "code",
   "execution_count": null,
   "metadata": {},
   "outputs": [],
   "source": [
    "import pandas as pd\n",
    "import matplotlib.pyplot as plt\n",
    "import seaborn as sns\n",
    "import numpy as np\n",
    "# from textwrap import wrap\n",
    "\n",
    "%matplotlib inline\n",
    "%run cleaning_demo.ipynb\n",
    "# %run cleaning_web_data.ipynb\n",
    "# %run cleaning_experiment_clients.ipynb\n",
    "\n",
    "df_demo = import_df_demo() # type: ignore\n",
    "# df_web_data = import_df_web_data() # type: ignore\n",
    "# df_experiment_clients = import_df_experiment_clients() # type: ignore\n"
   ]
  },
  {
   "cell_type": "code",
   "execution_count": null,
   "metadata": {},
   "outputs": [],
   "source": [
    "df_demo"
   ]
  },
  {
   "cell_type": "code",
   "execution_count": null,
   "metadata": {},
   "outputs": [],
   "source": [
    "# Numerical Columns\n",
    "df_numerical = df_demo[[\"clnt_tenure_yr\", \"clnt_tenure_mnth\", \"clnt_age\", \"num_accts\", \"bal\", \"calls_6_mnth\", \"logons_6_mnth\"]]\n",
    "df_numerical"
   ]
  },
  {
   "cell_type": "code",
   "execution_count": null,
   "metadata": {},
   "outputs": [],
   "source": [
    "df_numerical.describe()"
   ]
  },
  {
   "cell_type": "markdown",
   "metadata": {},
   "source": [
    "## Gender Analysis"
   ]
  },
  {
   "cell_type": "code",
   "execution_count": null,
   "metadata": {},
   "outputs": [],
   "source": [
    "def multiple_value_counts(df, list):\n",
    "    for serie in list:\n",
    "        # Frequency table for 'MSZoning'\n",
    "        frequency_table = df[serie].value_counts()\n",
    "\n",
    "        # Calculating the proportion of each unique value in the 'MSZoning'\n",
    "        proportion_table = df[serie].value_counts(normalize=True)\n",
    "\n",
    "        return frequency_table, proportion_table\n",
    "\n",
    "multiple_value_counts(df_demo, [\"gendr\"])"
   ]
  },
  {
   "cell_type": "code",
   "execution_count": null,
   "metadata": {},
   "outputs": [],
   "source": [
    "multiple_value_counts(df_demo[df_demo[\"bal\"] > 1000000], [\"gendr\"])\n"
   ]
  },
  {
   "cell_type": "code",
   "execution_count": null,
   "metadata": {},
   "outputs": [],
   "source": [
    "# Creating histograms for each numerical column in 'df_numerical'\n",
    "df_numerical.hist(figsize=(15, 20), bins=60, xlabelsize=10, ylabelsize=10)\n",
    "plt.show()"
   ]
  },
  {
   "cell_type": "markdown",
   "metadata": {},
   "source": [
    "## Balance Analysis"
   ]
  },
  {
   "cell_type": "code",
   "execution_count": null,
   "metadata": {},
   "outputs": [],
   "source": [
    "# Plotting a boxplot for the 'SalePrice' column with a light blue color\n",
    "sns.boxplot(x = df_demo[\"bal\"], color=\"lightblue\")\n",
    "plt.show()"
   ]
  },
  {
   "cell_type": "code",
   "execution_count": null,
   "metadata": {},
   "outputs": [],
   "source": [
    "df_demo_test_boxplot = df_demo[df_demo[\"bal\"] < 1000000]\n",
    "\n",
    "sns.boxplot(x = df_demo_test_boxplot[\"bal\"], color=\"lightblue\")\n",
    "plt.show()"
   ]
  },
  {
   "cell_type": "code",
   "execution_count": null,
   "metadata": {},
   "outputs": [],
   "source": [
    "sns.histplot(df_demo[df_demo[\"bal\"] < 1000000][\"bal\"], kde=True, bins=30, color=\"salmon\")\n",
    "plt.show()"
   ]
  },
  {
   "cell_type": "code",
   "execution_count": null,
   "metadata": {},
   "outputs": [],
   "source": [
    "df_demo[df_demo[\"bal\"] < 1000000][\"bal\"].describe()"
   ]
  },
  {
   "cell_type": "code",
   "execution_count": null,
   "metadata": {},
   "outputs": [],
   "source": [
    "# Full Balance Stats\n",
    "df_demo[\"bal\"].describe()"
   ]
  },
  {
   "cell_type": "code",
   "execution_count": null,
   "metadata": {},
   "outputs": [],
   "source": [
    "full_balance = df_demo[\"bal\"].sum()\n",
    "print(full_balance)"
   ]
  },
  {
   "cell_type": "code",
   "execution_count": null,
   "metadata": {},
   "outputs": [],
   "source": [
    "top_mill = df_demo[df_demo[\"bal\"] > 1000000][\"bal\"].sum()\n",
    "top_mill"
   ]
  },
  {
   "cell_type": "code",
   "execution_count": null,
   "metadata": {},
   "outputs": [],
   "source": [
    "medium_group_bal = df_demo[(100000 < df_demo[\"bal\"]) & (df_demo[\"bal\"] < 1000000)][\"bal\"].sum()\n",
    "medium_group_bal"
   ]
  },
  {
   "cell_type": "code",
   "execution_count": null,
   "metadata": {},
   "outputs": [],
   "source": [
    "low_group_bal = df_demo[100000 > df_demo[\"bal\"]][\"bal\"].sum()\n",
    "low_group_bal"
   ]
  },
  {
   "cell_type": "code",
   "execution_count": null,
   "metadata": {},
   "outputs": [],
   "source": [
    "proportion_balance_high = top_mill / full_balance\n",
    "print(proportion_balance_high)\n",
    "\n",
    "proportion_balance_medium = medium_group_bal / full_balance\n",
    "print(proportion_balance_medium)\n",
    "\n",
    "proportion_balance_low = low_group_bal / full_balance\n",
    "print(proportion_balance_low)\n"
   ]
  },
  {
   "cell_type": "markdown",
   "metadata": {},
   "source": [
    "## Exporting Dataframes"
   ]
  },
  {
   "cell_type": "code",
   "execution_count": null,
   "metadata": {},
   "outputs": [],
   "source": [
    "# create a dummy function to export dataframe directly\n",
    "def import_df_explore_demo():\n",
    "    return (\n",
    "       #\n",
    "        )"
   ]
  }
 ],
 "metadata": {
  "kernelspec": {
   "display_name": "second_project_eda",
   "language": "python",
   "name": "python3"
  },
  "language_info": {
   "codemirror_mode": {
    "name": "ipython",
    "version": 3
   },
   "file_extension": ".py",
   "mimetype": "text/x-python",
   "name": "python",
   "nbconvert_exporter": "python",
   "pygments_lexer": "ipython3",
   "version": "3.9.6"
  }
 },
 "nbformat": 4,
 "nbformat_minor": 2
}
