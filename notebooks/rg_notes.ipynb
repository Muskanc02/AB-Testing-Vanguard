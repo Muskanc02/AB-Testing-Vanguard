{
 "cells": [
  {
   "cell_type": "code",
   "execution_count": null,
   "id": "d193494e-21e7-4b94-a211-dd0c2f4d7aeb",
   "metadata": {},
   "outputs": [],
   "source": [
    "import functions as f\n",
    "import pandas as pd\n",
    "from datetime import datetime\n",
    "import matplotlib.pyplot as plt\n",
    "import seaborn as sns\n",
    "import numpy as np\n",
    "import math"
   ]
  },
  {
   "cell_type": "code",
   "execution_count": null,
   "id": "6102888f-92c8-4377-a01a-58ee4497bbd4",
   "metadata": {},
   "outputs": [],
   "source": [
    "df_demo = pd.read_csv(\"../data/clean/df_demo_clean.csv\")\n",
    "df_wd = pd.read_csv(\"../data/clean/df_web_data_clean.csv\")\n",
    "df_experiment_clients = pd.read_csv(\"../data/clean/df_experiment_clients_clean.csv\")"
   ]
  },
  {
   "cell_type": "code",
   "execution_count": null,
   "id": "c8788411-fc32-48d0-8532-951c9e0c5e29",
   "metadata": {},
   "outputs": [],
   "source": [
    "#Change date_time from object to date\n",
    "\n",
    "df_wd['date_time'] = pd.to_datetime(df_wd['date_time'], errors='coerce')\n",
    "df_demo"
   ]
  },
  {
   "cell_type": "markdown",
   "id": "f059ee5e-e6fb-4bf7-8c3f-3b56ec097ae0",
   "metadata": {},
   "source": [
    "### Completion Rates"
   ]
  },
  {
   "cell_type": "code",
   "execution_count": null,
   "id": "9723c38b-da69-443e-877b-d2e1233a5024",
   "metadata": {},
   "outputs": [],
   "source": [
    "# Identify completed sessions (where process_step = 4 exists for a given visit_id)\n",
    "completion_status = df_wd.groupby(['client_id', 'visitor_id', 'visit_id'])['process_step'].max() == 4\n",
    "\n",
    "# Calculate Completion Rate\n",
    "completion_rate = completion_status.mean().round(2)\n",
    "print(f\"The completion rate for the whole group is: {completion_rate:.2f}\")"
   ]
  },
  {
   "cell_type": "markdown",
   "id": "d170dc10-c2ac-4eb6-90c5-09a46532833c",
   "metadata": {},
   "source": [
    "### Control Group"
   ]
  },
  {
   "cell_type": "code",
   "execution_count": null,
   "id": "036d511b-f116-4063-a4f4-a67aaf70bcc3",
   "metadata": {},
   "outputs": [],
   "source": [
    "df_wd = df_wd.merge(df_experiment_clients)\n",
    "df_wd = pd.merge(df_wd, df_demo[['client_id','age_group']], on='client_id', how='left')\n",
    "df_wd = pd.merge(df_wd, df_demo[['client_id','tenure']], on='client_id', how='left')\n",
    "df_wd = pd.merge(df_wd, df_demo[['client_id','clnt_age']], on='client_id', how='inner')\n",
    "df_wd = pd.merge(df_wd, df_demo[['client_id','clnt_tenure_yr']], on='client_id', how='inner')\n",
    "df_wd"
   ]
  },
  {
   "cell_type": "code",
   "execution_count": null,
   "id": "58b7a7f1-2234-4934-ab84-b7e238344902",
   "metadata": {},
   "outputs": [],
   "source": [
    "df_wd_control = df_wd[df_wd['Variation'] == 'Control']\n",
    "\n",
    "\n",
    "# Identify completed sessions (where process_step = 4 exists for a given visit_id)\n",
    "control_completion_status = df_wd_control.groupby(['client_id', 'visitor_id', 'visit_id'])['process_step'].max() == 4\n",
    "\n",
    "# Calculate Completion Rate\n",
    "control_completion_rate = completion_status.mean().round(2)\n",
    "print(f\"The completion rate for the control group is: {control_completion_rate:.2f}\")"
   ]
  },
  {
   "cell_type": "markdown",
   "id": "4dc80b20-1033-4415-8ce0-2187ed586029",
   "metadata": {},
   "source": [
    "### Test Group"
   ]
  },
  {
   "cell_type": "code",
   "execution_count": null,
   "id": "98d6e0b6-7a56-4744-b882-21b120a47123",
   "metadata": {},
   "outputs": [],
   "source": [
    "df_wd_test = df_wd[df_wd['Variation'] == 'Test']\n",
    "\n",
    "# Identify completed sessions (where process_step = 4 exists for a given visit_id)\n",
    "test_completion_status = df_wd_test.groupby(['client_id', 'visitor_id', 'visit_id'])['process_step'].max() == 4\n",
    "\n",
    "# Calculate Completion Rate\n",
    "test_completion_rate = test_completion_status.mean().round(2)\n",
    "print(f\"The completion rate for the test group is: {test_completion_rate:.2f}\")"
   ]
  },
  {
   "cell_type": "markdown",
   "id": "f544bcf7-4795-48f8-9757-18326c12323f",
   "metadata": {},
   "source": [
    "### Hypothesis Tests\n",
    "\n",
    "##### Threshold: Vanguard has set this minimum increase in completion rate at 5%. This is the rate at which the projected benefits, in terms of increased user engagement and potential revenue, are estimated to outweigh the costs of the new design."
   ]
  },
  {
   "cell_type": "markdown",
   "id": "3d94f497-c364-4110-aea5-34fdc6898cd4",
   "metadata": {},
   "source": [
    "#### Completion Rate Hypothesis Test"
   ]
  },
  {
   "cell_type": "code",
   "execution_count": null,
   "id": "2998eec1-7348-49ee-a46a-f3ce1bb8c2b2",
   "metadata": {},
   "outputs": [],
   "source": [
    "vanguard_red = '#BA0C2F'\n",
    "vanguard_gray = '#4D4D4F'\n",
    "vanguard_beige = '#F2E5D5'\n",
    "vanguard_dark = '#D9D9D6'\n",
    "vanguard_palette = [vanguard_red,vanguard_gray,vanguard_dark,vanguard_beige]\n",
    "\n",
    "df_wd['session_completed'] = df_wd.groupby(['client_id', 'visitor_id', 'visit_id'])['process_step'].transform(lambda x: 1 if 4 in x.values else 0)\n",
    "\n",
    "frequency_table = df_wd['session_completed'].value_counts()\n",
    "frequency_table_proportion = df_wd['session_completed'].value_counts(normalize=True)\n",
    "\n",
    "display(frequency_table_proportion)\n",
    "sns.countplot(data=df_wd, x='Variation',palette=vanguard_palette, hue='session_completed')\n",
    "plt.legend(labels=['Not Completed','Completed'])\n",
    "plt.show()"
   ]
  },
  {
   "cell_type": "code",
   "execution_count": null,
   "id": "9bff649f-d28a-4166-91bb-009ce3321a3b",
   "metadata": {},
   "outputs": [],
   "source": [
    "#Set Hypothesis\n",
    "import scipy.stats as st\n",
    "\n",
    "#The test group completion rate is performing better on average than the control group.\n",
    "\n",
    "alpha = 0.05\n",
    "\n",
    "#H0: test_completion_rate <= control_completion_rate\n",
    "#H1: test_completion_rate > control_completion_rate\n",
    "\n",
    "\n",
    "control_df = df_wd[(df_wd['Variation'] == 'Control') & (df_wd['session_completed'] == 1)]['process_step']\n",
    "test_df = df_wd[(df_wd['Variation'] == 'Test') & (df_wd['session_completed'] == 1)]['process_step']\n",
    "\n",
    "stat, p_value = st.ttest_ind(test_df,control_df,equal_var=False,alternative='greater')\n",
    "\n",
    "if p_value > alpha:\n",
    "    print(\"we are not able to reject the null hypothesis\")\n",
    "else:\n",
    "    print(f\"H1 is true. We reject the null hypothesis because the completion rates for the test group the p_value ({p_value}) is lower than the chosen alpha ({alpha}) \")"
   ]
  },
  {
   "cell_type": "markdown",
   "id": "2b1a9c7a-3661-49fb-98ac-63150b23fab4",
   "metadata": {},
   "source": [
    "##### The new design found in the test group leads to the required level of improvement."
   ]
  },
  {
   "cell_type": "markdown",
   "id": "52547b97-2e77-4801-bb9d-2f0de1b1479f",
   "metadata": {},
   "source": [
    "#### Average Client Engagement Hypothesis Test"
   ]
  },
  {
   "cell_type": "code",
   "execution_count": null,
   "id": "73815d43-c619-4493-b316-caaff073c0cf",
   "metadata": {},
   "outputs": [],
   "source": [
    "plt.figure(figsize=(8,5))\n",
    "\n",
    "sns.boxplot(x=df_wd['Variation'],y=df_wd['clnt_age'],palette=[vanguard_red,vanguard_beige])\n",
    "plt.title('Age Distribution by Group',fontsize=14)\n",
    "plt.xlabel('Group',fontsize=12)\n",
    "plt.ylabel('Client Age',fontsize=12)\n",
    "plt.show()"
   ]
  },
  {
   "cell_type": "code",
   "execution_count": null,
   "id": "c88ac22b-81a4-4a14-a1fc-1335680c7c04",
   "metadata": {},
   "outputs": [],
   "source": [
    "#Set Hypothesis\n",
    "\n",
    "#The average age of clients engaging with the new process is the same as those engaging with the old process.\n",
    "\n",
    "#H0  avg_age_test = avg_age_control\n",
    "#H1: avg_age_test != avg_age_control\n",
    "\n",
    "\n",
    "age_control_df = df_wd[(df_wd['Variation'] == 'Control')]['clnt_age']\n",
    "age_test_df = df_wd[(df_wd['Variation'] == 'Test')]['clnt_age']\n",
    "\n",
    "stat, p_value = st.ttest_ind(age_test_df, age_control_df, equal_var=False, alternative='two-sided')\n",
    "\n",
    "if p_value > alpha:\n",
    "    print(f\"We fail to reject the null hypothesis (H0). There is no significant difference in average age between the test and control groups (p-value: {p_value}).\")\n",
    "else:\n",
    "    print(f\"We reject the null hypothesis (H0). There is a significant difference in average age between the test and control groups (p-value: {p_value}).\")\n"
   ]
  },
  {
   "cell_type": "markdown",
   "id": "f7372300-bb79-4611-8894-1eafd87f961b",
   "metadata": {},
   "source": [
    "#### Average Client Tenure Hypothesis Test"
   ]
  },
  {
   "cell_type": "code",
   "execution_count": null,
   "id": "8f19d5e1-3513-4e39-b978-b604ebbb76f3",
   "metadata": {},
   "outputs": [],
   "source": [
    "plt.figure(figsize=(8,5))\n",
    "\n",
    "sns.violinplot(x=df_wd['Variation'],y=df_wd['clnt_tenure_yr'],palette=[vanguard_gray,vanguard_dark])\n",
    "plt.title('Tenure Distribution by Group',fontsize=14)\n",
    "plt.xlabel('Group',fontsize=12)\n",
    "plt.ylabel('Client Tenure',fontsize=12)\n",
    "plt.show()"
   ]
  },
  {
   "cell_type": "code",
   "execution_count": null,
   "id": "a429097b-eacb-4843-b4fb-8a6e678a18af",
   "metadata": {},
   "outputs": [],
   "source": [
    "#Set Hypothesis\n",
    "\n",
    "#The average client tenure engaging with the new process is the same as those engaging with the old process.\n",
    "\n",
    "#H0  avg_tenure_test = avg_tenure_control\n",
    "#H1: avg_tenure_test != avg_tenure_control\n",
    "\n",
    "\n",
    "tenure_control_df = df_wd[(df_wd['Variation'] == 'Control')]['clnt_tenure_yr']\n",
    "tenure_test_df = df_wd[(df_wd['Variation'] == 'Test')]['clnt_tenure_yr']\n",
    "\n",
    "stat, p_value = st.ttest_ind(tenure_test_df, tenure_control_df, equal_var=False, alternative='two-sided')\n",
    "\n",
    "if p_value > alpha:\n",
    "    print(f\"We fail to reject the null hypothesis (H0). There is no significant difference in average tenure between the test and control groups (p-value: {p_value}).\")\n",
    "else:\n",
    "    print(f\"We reject the null hypothesis (H0). There is a significant difference in average tenure between the test and control groups (p-value: {p_value}).\")\n"
   ]
  },
  {
   "cell_type": "markdown",
   "id": "1564d267-072f-4b50-9c4a-8bfe020f3cc7",
   "metadata": {},
   "source": [
    "### Rest of Notes EDA "
   ]
  },
  {
   "cell_type": "code",
   "execution_count": null,
   "id": "28e5c171-f21c-41a0-a422-a7ec2788f1ee",
   "metadata": {},
   "outputs": [],
   "source": [
    "frequency_crosstab = pd.crosstab(df_wd['age_group'],df_wd['session_completed'],normalize='index').round(2)\n",
    "frequency_crosstab_sorted = frequency_crosstab.sort_values(by=frequency_crosstab.columns.tolist(),ascending=False)\n",
    "display(frequency_crosstab_sorted)\n",
    "\n",
    "sns.countplot(data=df_wd, x='age_group',palette=vanguard_palette, hue='session_completed')\n",
    "plt.legend(labels=['Not Completed','Completed'])\n",
    "plt.show()"
   ]
  },
  {
   "cell_type": "code",
   "execution_count": null,
   "id": "d3f93eb0-bf53-4a10-9e2e-f90b076e4b67",
   "metadata": {},
   "outputs": [],
   "source": [
    "ax = frequency_crosstab.plot(kind='bar', stacked=True, rot=0, colormap='Set2')\n",
    "for i in ax.containers:\n",
    "    ax.bar_label(i,label_type='center')\n",
    "plt.legend(labels=['Not Completed','Completed'])\n",
    "plt.show()"
   ]
  },
  {
   "cell_type": "code",
   "execution_count": null,
   "id": "5623ccae-6ff5-4d29-9e15-11d72a2aa5a6",
   "metadata": {},
   "outputs": [],
   "source": []
  }
 ],
 "metadata": {
  "kernelspec": {
   "display_name": "second_project_venv",
   "language": "python",
   "name": "second_project_venv"
  },
  "language_info": {
   "codemirror_mode": {
    "name": "ipython",
    "version": 3
   },
   "file_extension": ".py",
   "mimetype": "text/x-python",
   "name": "python",
   "nbconvert_exporter": "python",
   "pygments_lexer": "ipython3",
   "version": "3.9.6"
  }
 },
 "nbformat": 4,
 "nbformat_minor": 5
}
