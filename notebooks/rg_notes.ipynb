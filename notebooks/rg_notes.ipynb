{
 "cells": [
  {
   "cell_type": "code",
   "execution_count": null,
   "id": "d193494e-21e7-4b94-a211-dd0c2f4d7aeb",
   "metadata": {},
   "outputs": [],
   "source": [
    "import functions as f\n",
    "import pandas as pd\n",
    "from datetime import datetime\n",
    "import matplotlib.pyplot as plt\n",
    "import seaborn as sns\n",
    "import numpy as np\n",
    "import math\n",
    "import scipy.stats as st\n",
    "from palette import vanguard_palette"
   ]
  },
  {
   "cell_type": "code",
   "execution_count": null,
   "id": "6102888f-92c8-4377-a01a-58ee4497bbd4",
   "metadata": {},
   "outputs": [],
   "source": [
    "df = pd.read_csv(\"../data/clean/df_join_clean.csv\")\n",
    "print(f\"Shape of final DataFrame: {df.shape}\")"
   ]
  },
  {
   "cell_type": "markdown",
   "id": "f059ee5e-e6fb-4bf7-8c3f-3b56ec097ae0",
   "metadata": {},
   "source": [
    "### Completion Rates"
   ]
  },
  {
   "cell_type": "code",
   "execution_count": null,
   "id": "9723c38b-da69-443e-877b-d2e1233a5024",
   "metadata": {},
   "outputs": [],
   "source": [
    "# Step 1: Identify completed sessions (process_step = 4 exists for a given visit_id)\n",
    "df['session_completed'] = df.groupby(['client_id', 'visitor_id', 'visit_id'])['process_step'].transform(lambda x: 1 if (x == 4).any() else 0)\n",
    "\n",
    "# Step 1: Filter the DataFrame to only include rows where process_step == 4\n",
    "df_step_4 = df[df['process_step'] == 4]\n",
    "\n",
    "# Step 2: Sort by 'date_time' in ascending order to ensure the earliest step 4 is kept first\n",
    "df_step_4_sorted = df_step_4.sort_values(by='date_time', ascending=True)\n",
    "\n",
    "# Step 3: Drop duplicates for 'client_id', 'visit_id', and 'visitor_id' but keep only the first (earliest) occurrence of process_step == 4\n",
    "df_step_4_cleaned = df_step_4_sorted.drop_duplicates(subset=['client_id', 'visit_id', 'visitor_id'], keep='first')\n",
    "\n",
    "# Step 4: Filter the rest of the rows that are NOT process_step == 4\n",
    "df_non_step_4 = df[df['process_step'] != 4]\n",
    "\n",
    "# Step 5: Combine the cleaned step 4 rows with the non-step 4 rows\n",
    "df = pd.concat([df_non_step_4, df_step_4_cleaned])\n",
    "\n",
    "# Step 6: Reset the index of the final DataFrame\n",
    "df = df.reset_index(drop=True)\n",
    "\n",
    "# Verify the result\n",
    "print(f\"Shape of final DataFrame: {df.shape}\")\n",
    "\n",
    "\n",
    "# Calculate Completion Rate\n",
    "completion_status = df.groupby(['client_id', 'visitor_id', 'visit_id'])['process_step'].max() == 4\n",
    "completion_rate = completion_status.mean().round(2)\n",
    "print(f\"The completion rate for the whole group is: {completion_rate:.2f}\")\n"
   ]
  },
  {
   "cell_type": "markdown",
   "id": "d170dc10-c2ac-4eb6-90c5-09a46532833c",
   "metadata": {},
   "source": [
    "### Control Group"
   ]
  },
  {
   "cell_type": "code",
   "execution_count": null,
   "id": "58b7a7f1-2234-4934-ab84-b7e238344902",
   "metadata": {},
   "outputs": [],
   "source": [
    "df_control = df[df['Variation'] == 'Control']\n",
    "\n",
    "# Identify completed sessions (where process_step = 4 exists for a given visit_id)\n",
    "control_completion_status = df_control.groupby(['client_id', 'visitor_id', 'visit_id'])['process_step'].max() == 4\n",
    "\n",
    "# Calculate Completion Rate\n",
    "control_completion_avg = control_completion_status.mean().round(2)\n",
    "print(f\"The completion average for the control group is: {control_completion_avg:.2f}\")"
   ]
  },
  {
   "cell_type": "markdown",
   "id": "4dc80b20-1033-4415-8ce0-2187ed586029",
   "metadata": {},
   "source": [
    "### Test Group"
   ]
  },
  {
   "cell_type": "code",
   "execution_count": null,
   "id": "98d6e0b6-7a56-4744-b882-21b120a47123",
   "metadata": {},
   "outputs": [],
   "source": [
    "df_test = df[df['Variation'] == 'Test']\n",
    "\n",
    "# Identify completed sessions (where process_step = 4 exists for a given visit_id)\n",
    "test_completion_status = df_test.groupby(['client_id', 'visitor_id', 'visit_id'])['process_step'].max() == 4\n",
    "\n",
    "# Calculate Completion Rate\n",
    "test_completion_avg = test_completion_status.mean().round(2)\n",
    "print(f\"The completion average for the test group is: {test_completion_avg:.2f}\")"
   ]
  },
  {
   "cell_type": "markdown",
   "id": "f544bcf7-4795-48f8-9757-18326c12323f",
   "metadata": {},
   "source": [
    "### Hypothesis Tests\n",
    "\n",
    "##### Threshold: Vanguard has set this minimum increase in completion rate at 5%. This is the rate at which the projected benefits, in terms of increased user engagement and potential revenue, are estimated to outweigh the costs of the new design."
   ]
  },
  {
   "cell_type": "markdown",
   "id": "3d94f497-c364-4110-aea5-34fdc6898cd4",
   "metadata": {},
   "source": [
    "#### Completion Rate Hypothesis Test"
   ]
  },
  {
   "cell_type": "code",
   "execution_count": null,
   "id": "2998eec1-7348-49ee-a46a-f3ce1bb8c2b2",
   "metadata": {},
   "outputs": [],
   "source": [
    "completion_frequency = df.groupby(['Variation', 'session_completed']).size().unstack(fill_value=0)\n",
    "completion_percentage = completion_frequency.div(completion_frequency.sum(axis=1), axis=0).round(4)\n",
    "\n",
    "\n",
    "frequency_table = df['session_completed'].value_counts()\n",
    "frequency_table_proportion = df['session_completed'].value_counts(normalize=True)\n",
    "display(completion_percentage)\n",
    "display(frequency_table)\n",
    "\n",
    "plt.figure(figsize=(10, 6))\n",
    "\n",
    "ax = sns.countplot(data=df, x='Variation', hue='session_completed', palette=vanguard_palette)\n",
    "\n",
    "\n",
    "for container in ax.containers:\n",
    "    ax.bar_label(container, fmt='{:,.0f}', fontsize=10, color='black')\n",
    "\n",
    "\n",
    "plt.legend(labels=['Not Completed','Completed'])\n",
    "plt.show()"
   ]
  },
  {
   "cell_type": "markdown",
   "id": "a8a1ec3f-4867-454a-9418-1a513e1764bf",
   "metadata": {},
   "source": [
    "$$H_{0}: completion-rate-test <= completion-rate_control$$\n",
    "$$H_{1}: completion-rate-test > completion-rate-control$$"
   ]
  },
  {
   "cell_type": "code",
   "execution_count": null,
   "id": "9bff649f-d28a-4166-91bb-009ce3321a3b",
   "metadata": {},
   "outputs": [],
   "source": [
    "#Set Hypothesis\n",
    "\n",
    "#The test group completion rate is performing better on average than the control group.\n",
    "\n",
    "alpha = 0.05\n",
    "\n",
    "#Proportion Test\n",
    "\n",
    "# Compute test statistics\n",
    "x_test = df_test['session_completed'].sum()  # Completed in test group\n",
    "x_control = df_control['session_completed'].sum()  # Completed in control group\n",
    "\n",
    "n_test = len(df_test)  # Total test users\n",
    "n_control = len(df_control)  # Total control users\n",
    "\n",
    "p1_test = x_test / n_test  # Completion rate test group\n",
    "p1_control = x_control / n_control  # Completion rate control group\n",
    "\n",
    "# Compute pooled proportion and standard error\n",
    "p_pooled = (x_test + x_control) / (n_test + n_control)  # Pooled proportion\n",
    "q_pooled = 1 - p_pooled  # Complement of pooled proportion\n",
    "\n",
    "SE = np.sqrt(p_pooled * q_pooled * (1/n_test + 1/n_control))\n",
    "\n",
    "# Compute Z-score\n",
    "z = (p1_test - p1_control) / SE\n",
    "\n",
    "# Compute one-tailed p-value (right-tailed test)\n",
    "p_value = 1 - st.norm.cdf(z)\n",
    "\n",
    "# Hypothesis test decision\n",
    "if p_value < alpha:\n",
    "    print(\"Reject the null hypothesis: The test group has a significantly higher completion rate than the control group.\")\n",
    "else:\n",
    "    print(\"Fail to reject the null hypothesis: There is no statistically significant evidence that the test group performs better than the control group.\")\n",
    "\n",
    "print(f\"Z-score: {z:.4f}, p-value: {p_value:.4f}\")"
   ]
  },
  {
   "cell_type": "markdown",
   "id": "50067d05-abae-402e-b02c-46d9640577c9",
   "metadata": {},
   "source": [
    "$$H_{0}: \\text{completion\\_rate\\_test} - \\text{completion\\_rate\\_control} >= 0.05$$\n",
    "$$H_{1}: \\text{completion\\_rate\\_test} - \\text{completion\\_rate\\_control} < 0.05$$"
   ]
  },
  {
   "cell_type": "code",
   "execution_count": null,
   "id": "907cdc76-1d02-4400-9f27-314484ea425a",
   "metadata": {},
   "outputs": [],
   "source": [
    "#Proportion Test\n",
    "\n",
    "# Compute test statistics\n",
    "x_test = df_test['session_completed'].sum()  # Completed in test group\n",
    "x_control = df_control['session_completed'].sum()  # Completed in control group\n",
    "\n",
    "n_control = len(df_control)  # Total control users\n",
    "n_test = len(df_test)  # Total test users\n",
    "\n",
    "p1_test = x_test / n_test  # Completion rate test group\n",
    "p1_control = x_control / n_control  # Completion rate control group\n",
    "\n",
    "# Define the expected difference under H0\n",
    "delta = 0.05  # 5% increase\n",
    "\n",
    "# Compute standard error\n",
    "p_pooled = (x_test + x_control) / (n_test + n_control)  # Pooled proportion\n",
    "q_pooled = 1 - p_pooled\n",
    "\n",
    "SE = np.sqrt(p_pooled * q_pooled * (1/n_test + 1/n_control))\n",
    "\n",
    "# Compute Z-score\n",
    "z = (p1_test - p1_control - delta) / SE  # Subtract delta\n",
    "\n",
    "# Compute one-tailed p-value\n",
    "p_value = st.norm.cdf(z)\n",
    "\n",
    "if p_value < alpha:\n",
    "    print(\"Reject the null hypothesis: The completion rate increase is less than 5%.\")\n",
    "else:\n",
    "    print(\"Fail to reject the null hypothesis: The completion rate increase is at least 5%.\")\n",
    "\n",
    "print(f\"Z-score: {z:.4f}, p-value: {p_value:.4f}\")"
   ]
  },
  {
   "cell_type": "markdown",
   "id": "4936d91d-fa1b-4b7f-af66-a2309ddccc91",
   "metadata": {},
   "source": [
    "#### Average Client Tenure Hypothesis Test"
   ]
  },
  {
   "cell_type": "code",
   "execution_count": null,
   "id": "73815d43-c619-4493-b316-caaff073c0cf",
   "metadata": {},
   "outputs": [],
   "source": [
    "# Compute crosstab (normalized by row)\n",
    "frequency_crosstab = pd.crosstab(\n",
    "    [df['age_group'], df['Variation']], df['session_completed'], normalize='index'\n",
    ").round(2)\n",
    "\n",
    "# Reset index for better plotting with seaborn\n",
    "frequency_crosstab = frequency_crosstab.reset_index()\n",
    "\n",
    "# Rename columns for clarity\n",
    "frequency_crosstab.columns = ['Age Group', 'Variation', 'Not Completed', 'Completed']\n",
    "\n",
    "# Convert from wide to long format for seaborn\n",
    "frequency_crosstab_melted = frequency_crosstab.melt(\n",
    "    id_vars=['Age Group', 'Variation'], \n",
    "    value_vars=['Not Completed', 'Completed'],\n",
    "    var_name='Completion Status', \n",
    "    value_name='Proportion'\n",
    ")\n",
    "\n",
    "# Set figure size\n",
    "fig, axes = plt.subplots(2, 1, figsize=(10, 12), sharex=True)  # One below the other\n",
    "\n",
    "# Define test & control datasets\n",
    "df_test = frequency_crosstab_melted[frequency_crosstab_melted['Variation'] == 'Test']\n",
    "df_control = frequency_crosstab_melted[frequency_crosstab_melted['Variation'] == 'Control']\n",
    "\n",
    "# Plot Test Group\n",
    "sns.barplot(\n",
    "    data=df_test, x='Age Group', y='Proportion', hue='Completion Status',\n",
    "    palette=vanguard_palette, ax=axes[0], hue_order=['Completed', 'Not Completed']\n",
    ")\n",
    "axes[0].set_title(\"Test Group\", fontsize=14)\n",
    "axes[0].set_xlabel(\"Age Group\", fontsize=12)\n",
    "axes[0].set_ylabel(\"Proportion\", fontsize=12)\n",
    "axes[0].legend(title=\"Completion Status\", loc='lower right')\n",
    "\n",
    "# Plot Control Group\n",
    "sns.barplot(\n",
    "    data=df_control, x='Age Group', y='Proportion', hue='Completion Status',\n",
    "    palette=vanguard_palette, ax=axes[1], hue_order=['Completed', 'Not Completed']\n",
    ")\n",
    "axes[1].set_title(\"Control Group\", fontsize=14)\n",
    "axes[1].set_xlabel(\"Age Group\", fontsize=12)\n",
    "axes[1].set_ylabel(\"\")\n",
    "axes[1].legend(title=\"Completion Status\", loc='lower right')\n",
    "\n",
    "# Add bar labels for better readability\n",
    "for ax in axes:\n",
    "    for container in ax.containers:\n",
    "        ax.bar_label(container, fmt='%.2f', fontsize=10, color='black')\n",
    "\n",
    "# Improve layout\n",
    "sns.despine()\n",
    "plt.tight_layout()\n",
    "plt.show()\n"
   ]
  },
  {
   "cell_type": "markdown",
   "id": "797a2e05-cab3-4caa-af3c-f91420414b9f",
   "metadata": {},
   "source": [
    "$$H_{0}: \\text{avg\\_age\\_test} <= \\text{avg\\_age\\_control}$$\n",
    "$$H_{1}: \\text{avg\\_age\\_test} > \\text{avg\\_age\\_control}$$"
   ]
  },
  {
   "cell_type": "code",
   "execution_count": null,
   "id": "25a8eae2-91d8-40bb-845d-497037c3988f",
   "metadata": {},
   "outputs": [],
   "source": [
    "#NEED TO DO CHISQUARE TEST FOR AGE AND TENURE GROUPS\n",
    "\n",
    "#The average age of clients engaging with the new process is the same as those engaging with the old process.\n",
    "\n",
    "#Chisquare Test\n",
    "\n",
    "crosstab_age = pd.crosstab(df['Variation'], df['age_group'])\n",
    "chi2_stat, chi2_p_value, _, expected_frequency = st.chi2_contingency(crosstab_age)\n",
    "\n",
    "chi2_stat,chi2_p_value\n",
    "\n",
    "if chi2_p_value > alpha:\n",
    "    print(f\"Fail to reject the null hypothesis (H0). There is no significant difference in age distribution between the test and control groups (p-value: {chi2_p_value:.4f}).\")\n",
    "else:\n",
    "    print(f\"Reject the null hypothesis (H0). There is a significant difference in age distribution between the test and control groups (p-value: {chi2_p_value:.4f}).\")"
   ]
  },
  {
   "cell_type": "code",
   "execution_count": null,
   "id": "a0749c5d-7829-4fce-ac9e-f9f27690e40c",
   "metadata": {},
   "outputs": [],
   "source": [
    "df_test = df[df['Variation']=='Test']\n",
    "df_control = df[df['Variation']=='Control']\n",
    "\n",
    "test_mean = df_test['clnt_age'].mean()\n",
    "control_mean = df_control['clnt_age'].mean()\n",
    "\n",
    "test_mean,control_mean"
   ]
  },
  {
   "cell_type": "markdown",
   "id": "f7372300-bb79-4611-8894-1eafd87f961b",
   "metadata": {},
   "source": [
    "#### Average Client Tenure Hypothesis Test"
   ]
  },
  {
   "cell_type": "code",
   "execution_count": null,
   "id": "8f19d5e1-3513-4e39-b978-b604ebbb76f3",
   "metadata": {},
   "outputs": [],
   "source": [
    "plt.figure(figsize=(8,5))\n",
    "\n",
    "sns.violinplot(x=df['Variation'],y=df['clnt_tenure_yr'],palette=vanguard_palette)\n",
    "plt.title('Tenure Distribution by Group',fontsize=14)\n",
    "plt.xlabel('Group',fontsize=12)\n",
    "plt.ylabel('Client Tenure',fontsize=12)\n",
    "plt.show()"
   ]
  },
  {
   "cell_type": "markdown",
   "id": "8f88403c-1126-44b4-b922-6eb5978f1452",
   "metadata": {},
   "source": [
    "$$H_{0}: \\text{avg\\_tenure\\_test} = \\text{avg\\_tenure\\_control}$$\n",
    "$$H_{1}: \\text{avg\\_tenure\\_test} \\_  != \\text{avg\\_tenure\\_control}$$"
   ]
  },
  {
   "cell_type": "code",
   "execution_count": null,
   "id": "a1d4d83b-d4ce-48c3-b76f-0c74c31e52bb",
   "metadata": {},
   "outputs": [],
   "source": [
    "df_test = df[df['Variation']=='Test']\n",
    "df_control = df[df['Variation']=='Control']\n",
    "\n",
    "test_mean = df_test['clnt_tenure_yr'].mean()\n",
    "control_mean = df_control['clnt_tenure_yr'].mean()\n",
    "\n",
    "test_mean,control_mean"
   ]
  },
  {
   "cell_type": "code",
   "execution_count": null,
   "id": "a429097b-eacb-4843-b4fb-8a6e678a18af",
   "metadata": {},
   "outputs": [],
   "source": [
    "#Set Hypothesis\n",
    "\n",
    "#The average client tenure engaging with the new process is the same as those engaging with the old process.\n",
    "\n",
    "#H0  avg_tenure_test = avg_tenure_control\n",
    "#H1: avg_tenure_test != avg_tenure_control\n",
    "\n",
    "\n",
    "tenure_control_df = df[(df['Variation'] == 'Control')]['clnt_tenure_yr']\n",
    "tenure_test_df = df[(df['Variation'] == 'Test')]['clnt_tenure_yr']\n",
    "\n",
    "stat, p_value = st.ttest_ind(tenure_test_df, tenure_control_df, equal_var=False, alternative='two-sided')\n",
    "\n",
    "if p_value > alpha:\n",
    "    print(f\"We fail to reject the null hypothesis (H0). There is no significant difference in average tenure between the test and control groups (p-value: {p_value}).\")\n",
    "else:\n",
    "    print(f\"We reject the null hypothesis (H0). There is a significant difference in average tenure between the test and control groups (p-value: {p_value}).\")\n"
   ]
  }
 ],
 "metadata": {
  "kernelspec": {
   "display_name": "second_project_venv",
   "language": "python",
   "name": "second_project_venv"
  },
  "language_info": {
   "codemirror_mode": {
    "name": "ipython",
    "version": 3
   },
   "file_extension": ".py",
   "mimetype": "text/x-python",
   "name": "python",
   "nbconvert_exporter": "python",
   "pygments_lexer": "ipython3",
   "version": "3.9.6"
  }
 },
 "nbformat": 4,
 "nbformat_minor": 5
}
