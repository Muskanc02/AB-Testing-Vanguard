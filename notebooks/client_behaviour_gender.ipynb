{
 "cells": [
  {
   "cell_type": "code",
   "execution_count": null,
   "metadata": {},
   "outputs": [],
   "source": [
    "import pandas as pd\n",
    "import matplotlib.pyplot as plt\n",
    "import seaborn as sns\n",
    "import numpy as np\n",
    "# from textwrap import wrap\n",
    "\n",
    "%matplotlib inline\n",
    "%run cleaning_demo.ipynb\n",
    "# %run cleaning_web_data.ipynb\n",
    "# %run cleaning_experiment_clients.ipynb\n",
    "\n",
    "df_demo = import_df_demo() # type: ignore\n",
    "# df_web_data = import_df_web_data() # type: ignore\n",
    "# df_experiment_clients = import_df_experiment_clients() # type: ignore\n"
   ]
  },
  {
   "cell_type": "markdown",
   "metadata": {},
   "source": [
    "## Gender Analysis"
   ]
  },
  {
   "cell_type": "code",
   "execution_count": null,
   "metadata": {},
   "outputs": [],
   "source": [
    "def multiple_value_counts(df, list):\n",
    "    for serie in list:\n",
    "        # Frequency table for 'MSZoning'\n",
    "        frequency_table = df[serie].value_counts()\n",
    "\n",
    "        # Calculating the proportion of each unique value in the 'MSZoning'\n",
    "        proportion_table = df[serie].value_counts(normalize=True)\n",
    "\n",
    "        return frequency_table, proportion_table\n",
    "\n",
    "multiple_value_counts(df_demo, [\"gendr\"])"
   ]
  },
  {
   "cell_type": "code",
   "execution_count": null,
   "metadata": {},
   "outputs": [],
   "source": [
    "multiple_value_counts(df_demo[df_demo[\"bal\"] > 1000000], [\"gendr\"])\n"
   ]
  }
 ],
 "metadata": {
  "kernelspec": {
   "display_name": "second_project_eda",
   "language": "python",
   "name": "python3"
  },
  "language_info": {
   "codemirror_mode": {
    "name": "ipython",
    "version": 3
   },
   "file_extension": ".py",
   "mimetype": "text/x-python",
   "name": "python",
   "nbconvert_exporter": "python",
   "pygments_lexer": "ipython3",
   "version": "3.9.6"
  }
 },
 "nbformat": 4,
 "nbformat_minor": 2
}
