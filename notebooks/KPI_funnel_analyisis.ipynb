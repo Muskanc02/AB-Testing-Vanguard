{
 "cells": [
  {
   "cell_type": "code",
   "execution_count": 69,
   "metadata": {},
   "outputs": [],
   "source": [
    "import pandas as pd\n",
    "import numpy as np\n",
    "from scipy import stats\n",
    "import matplotlib.pyplot as plt\n",
    "import seaborn as sns\n",
    "\n",
    "df = pd.read_csv('../data/clean/df_join_clean.csv')"
   ]
  },
  {
   "cell_type": "code",
   "execution_count": 70,
   "metadata": {},
   "outputs": [
    {
     "name": "stdout",
     "output_type": "stream",
     "text": [
      "Total Visits: \n"
     ]
    },
    {
     "data": {
      "text/plain": [
       "Variation\n",
       "Control    32020\n",
       "Test       36906\n",
       "Name: visit_id, dtype: int64"
      ]
     },
     "metadata": {},
     "output_type": "display_data"
    },
    {
     "name": "stdout",
     "output_type": "stream",
     "text": [
      "\n",
      "\n",
      "Funnel Conversion Totals:\n"
     ]
    },
    {
     "data": {
      "text/html": [
       "<div>\n",
       "<style scoped>\n",
       "    .dataframe tbody tr th:only-of-type {\n",
       "        vertical-align: middle;\n",
       "    }\n",
       "\n",
       "    .dataframe tbody tr th {\n",
       "        vertical-align: top;\n",
       "    }\n",
       "\n",
       "    .dataframe thead th {\n",
       "        text-align: right;\n",
       "    }\n",
       "</style>\n",
       "<table border=\"1\" class=\"dataframe\">\n",
       "  <thead>\n",
       "    <tr style=\"text-align: right;\">\n",
       "      <th>process_step</th>\n",
       "      <th>0</th>\n",
       "      <th>1</th>\n",
       "      <th>2</th>\n",
       "      <th>3</th>\n",
       "      <th>4</th>\n",
       "    </tr>\n",
       "    <tr>\n",
       "      <th>Variation</th>\n",
       "      <th></th>\n",
       "      <th></th>\n",
       "      <th></th>\n",
       "      <th></th>\n",
       "      <th></th>\n",
       "    </tr>\n",
       "  </thead>\n",
       "  <tbody>\n",
       "    <tr>\n",
       "      <th>Control</th>\n",
       "      <td>30749</td>\n",
       "      <td>23419</td>\n",
       "      <td>20021</td>\n",
       "      <td>18195</td>\n",
       "      <td>15948</td>\n",
       "    </tr>\n",
       "    <tr>\n",
       "      <th>Test</th>\n",
       "      <td>32956</td>\n",
       "      <td>28110</td>\n",
       "      <td>24354</td>\n",
       "      <td>22055</td>\n",
       "      <td>21583</td>\n",
       "    </tr>\n",
       "  </tbody>\n",
       "</table>\n",
       "</div>"
      ],
      "text/plain": [
       "process_step      0      1      2      3      4\n",
       "Variation                                      \n",
       "Control       30749  23419  20021  18195  15948\n",
       "Test          32956  28110  24354  22055  21583"
      ]
     },
     "metadata": {},
     "output_type": "display_data"
    },
    {
     "name": "stdout",
     "output_type": "stream",
     "text": [
      "\n",
      "\n",
      "Funnel Conversion Rates:\n"
     ]
    },
    {
     "data": {
      "text/html": [
       "<div>\n",
       "<style scoped>\n",
       "    .dataframe tbody tr th:only-of-type {\n",
       "        vertical-align: middle;\n",
       "    }\n",
       "\n",
       "    .dataframe tbody tr th {\n",
       "        vertical-align: top;\n",
       "    }\n",
       "\n",
       "    .dataframe thead th {\n",
       "        text-align: right;\n",
       "    }\n",
       "</style>\n",
       "<table border=\"1\" class=\"dataframe\">\n",
       "  <thead>\n",
       "    <tr style=\"text-align: right;\">\n",
       "      <th>process_step</th>\n",
       "      <th>0</th>\n",
       "      <th>1</th>\n",
       "      <th>2</th>\n",
       "      <th>3</th>\n",
       "      <th>4</th>\n",
       "    </tr>\n",
       "    <tr>\n",
       "      <th>Variation</th>\n",
       "      <th></th>\n",
       "      <th></th>\n",
       "      <th></th>\n",
       "      <th></th>\n",
       "      <th></th>\n",
       "    </tr>\n",
       "  </thead>\n",
       "  <tbody>\n",
       "    <tr>\n",
       "      <th>Control</th>\n",
       "      <td>96.03</td>\n",
       "      <td>73.14</td>\n",
       "      <td>62.53</td>\n",
       "      <td>56.82</td>\n",
       "      <td>49.81</td>\n",
       "    </tr>\n",
       "    <tr>\n",
       "      <th>Test</th>\n",
       "      <td>89.30</td>\n",
       "      <td>76.17</td>\n",
       "      <td>65.99</td>\n",
       "      <td>59.76</td>\n",
       "      <td>58.48</td>\n",
       "    </tr>\n",
       "  </tbody>\n",
       "</table>\n",
       "</div>"
      ],
      "text/plain": [
       "process_step      0      1      2      3      4\n",
       "Variation                                      \n",
       "Control       96.03  73.14  62.53  56.82  49.81\n",
       "Test          89.30  76.17  65.99  59.76  58.48"
      ]
     },
     "metadata": {},
     "output_type": "display_data"
    }
   ],
   "source": [
    "# Total visits in each group\n",
    "total_visits = df.groupby('Variation')['visit_id'].nunique()\n",
    "print(\"Total Visits: \")\n",
    "display(total_visits)\n",
    "\n",
    "# Steps for unique visits\n",
    "funnel = pd.crosstab(\n",
    "    index=df['Variation'],\n",
    "    columns=df['process_step'],\n",
    "    values=df['visit_id'],\n",
    "    aggfunc='nunique'\n",
    ")\n",
    "print(\"\\n\\nFunnel Conversion Totals:\")\n",
    "display(funnel)\n",
    "\n",
    "# conversion_rates = funnel.div(total_visits, axis=0) * 100\n",
    "conversion_rates = funnel.apply(lambda x: (x / total_visits) * 100)\n",
    "print(\"\\n\\nFunnel Conversion Rates:\")\n",
    "display(conversion_rates.round(2))\n"
   ]
  },
  {
   "cell_type": "code",
   "execution_count": null,
   "metadata": {},
   "outputs": [
    {
     "data": {
      "image/png": "[encoded data removed]",
      "text/plain": [
       "<Figure size 1200x600 with 1 Axes>"
      ]
     },
     "metadata": {},
     "output_type": "display_data"
    }
   ],
   "source": [
    "\n",
    "# Chart\n",
    "\n",
    "plt.figure(figsize=(12, 6))\n",
    "bar_width = 0.35\n",
    "steps = range(len(conversion_rates.columns))\n",
    "\n",
    "plt.bar(steps, conversion_rates.loc['Test'], bar_width, label='Test')\n",
    "plt.bar([x + bar_width for x in steps], conversion_rates.loc['Control'], \n",
    "        bar_width, label='Control')\n",
    "\n",
    "plt.xlabel('Process Step')\n",
    "plt.ylabel('Conversion Rate (% of total visits)')\n",
    "plt.title('Funnel Conversion Rates by Group')\n",
    "plt.xticks([x + bar_width/2 for x in steps], [f'Step {x}' for x in steps])\n",
    "plt.legend()\n",
    "plt.show()\n"
   ]
  }
 ],
 "metadata": {
  "kernelspec": {
   "display_name": "second_project_eda",
   "language": "python",
   "name": "python3"
  },
  "language_info": {
   "codemirror_mode": {
    "name": "ipython",
    "version": 3
   },
   "file_extension": ".py",
   "mimetype": "text/x-python",
   "name": "python",
   "nbconvert_exporter": "python",
   "pygments_lexer": "ipython3",
   "version": "3.9.6"
  }
 },
 "nbformat": 4,
 "nbformat_minor": 2
}
