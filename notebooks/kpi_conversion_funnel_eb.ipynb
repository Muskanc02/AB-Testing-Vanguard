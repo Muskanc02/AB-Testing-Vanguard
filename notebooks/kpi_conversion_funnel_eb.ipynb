{
 "cells": [
  {
   "cell_type": "code",
   "execution_count": null,
   "metadata": {},
   "outputs": [],
   "source": [
    "import pandas as pd\n",
    "import numpy as np\n",
    "import scipy.stats as st\n",
    "import matplotlib.pyplot as plt\n",
    "import seaborn as sns\n",
    "\n",
    "df = pd.read_csv('../data/clean/df_join_clean.csv')"
   ]
  },
  {
   "cell_type": "code",
   "execution_count": null,
   "metadata": {},
   "outputs": [],
   "source": [
    "# df_filtered = df[df[\"age_group\"] == \"Adults\"]\n",
    "\n",
    "# Total visits in each group\n",
    "total_visits = df.groupby('Variation')['visit_id'].nunique()\n",
    "total_visits_ya = df[df[\"age_group\"] == \"Young Adult\"].groupby('Variation')['visit_id'].nunique()\n",
    "total_visits_e = df[df[\"age_group\"] == \"Elderly\"].groupby('Variation')['visit_id'].nunique()\n",
    "print(\"Total Visits: \")\n",
    "display(total_visits, total_visits_ya, total_visits_e)\n",
    "\n",
    "# Steps for unique visits\n",
    "unique_counts = df.groupby(['Variation', 'process_step'])['visit_id'].nunique().reset_index()\n",
    "unique_counts_ya = df[df[\"age_group\"] == \"Young Adult\"].groupby(['Variation', 'process_step'])['visit_id'].nunique().reset_index()\n",
    "unique_counts_e = df[df[\"age_group\"] == \"Elderly\"].groupby(['Variation', 'process_step'])['visit_id'].nunique().reset_index()\n",
    "\n",
    "funnel = unique_counts.pivot(\n",
    "    index='Variation',    \n",
    "    columns='process_step',     \n",
    "    values='visit_id'\n",
    ")\n",
    "\n",
    "funnel_ya = unique_counts_ya.pivot(\n",
    "    index='Variation',    \n",
    "    columns='process_step',     \n",
    "    values='visit_id'\n",
    ")\n",
    "\n",
    "funnel_e = unique_counts_e.pivot(\n",
    "    index='Variation',    \n",
    "    columns='process_step',     \n",
    "    values='visit_id'\n",
    ")\n",
    "\n",
    "print(\"\\n\\nFunnel Conversion Totals:\")\n",
    "display(funnel)\n"
   ]
  },
  {
   "cell_type": "code",
   "execution_count": null,
   "metadata": {},
   "outputs": [],
   "source": [
    "\n",
    "conversion_rates = funnel.apply(lambda x: (x / total_visits) * 100, axis=0)\n",
    "print(\"\\n\\nFunnel Conversion Rates:\")\n",
    "display(conversion_rates.round(2))\n",
    "\n",
    "# abandonment rates\n",
    "abandonment_rates = funnel.apply(lambda x: 100 - ((x / total_visits) * 100), axis=0)\n",
    "# Add ratio row (Test/Control)\n",
    "abandonment_rates.loc['Ratio'] = abandonment_rates.loc['Test'] / abandonment_rates.loc['Control']\n",
    "print(\"\\n\\nFunnel Abandonment Rates:\")\n",
    "display(abandonment_rates.round(2))\n"
   ]
  },
  {
   "cell_type": "code",
   "execution_count": null,
   "metadata": {},
   "outputs": [],
   "source": [
    "\n",
    "conversion_rates_ya = funnel_ya.apply(lambda x: (x / total_visits_ya) * 100, axis=0)\n",
    "print(\"\\n\\nFunnel Conversion Rates:\")\n",
    "display(conversion_rates_ya.round(2))\n",
    "\n",
    "\n",
    "# abandonment rates Young Adults\n",
    "abandonment_rates_ya = funnel_ya.apply(lambda x: 100 - ((x / total_visits_ya) * 100), axis=0)\n",
    "# Add ratio row (Test/Control)\n",
    "abandonment_rates_ya.loc['Ratio'] = abandonment_rates_ya.loc['Test'] / abandonment_rates_ya.loc['Control']\n",
    "print(\"\\n\\nFunnel Abandonment Rates Young Adults:\")\n",
    "display(abandonment_rates_ya.round(2))\n"
   ]
  },
  {
   "cell_type": "code",
   "execution_count": null,
   "metadata": {},
   "outputs": [],
   "source": [
    "\n",
    "\n",
    "conversion_rates_e = funnel_e.apply(lambda x: (x / total_visits_e) * 100, axis=0)\n",
    "print(\"\\n\\nFunnel Conversion Rates:\")\n",
    "display(conversion_rates_e.round(2))\n",
    "\n",
    "# abandonment rates Elderly\n",
    "abandonment_rates_e = funnel_e.apply(lambda x: 100 - ((x / total_visits_e) * 100), axis=0)\n",
    "# Add ratio row (Test/Control)\n",
    "abandonment_rates_e.loc['Ratio'] = abandonment_rates_e.loc['Test'] / abandonment_rates_e.loc['Control']\n",
    "print(\"\\n\\nFunnel Abandonment Rates Elderly:\")\n",
    "display(abandonment_rates_e.round(2))\n"
   ]
  },
  {
   "cell_type": "code",
   "execution_count": null,
   "metadata": {},
   "outputs": [],
   "source": [
    "\n",
    "# Chart\n",
    "\n",
    "plt.figure(figsize=(12, 6))\n",
    "bar_width = 0.35\n",
    "steps = range(len(conversion_rates.columns))\n",
    "\n",
    "plt.bar(steps, conversion_rates.loc['Test'], bar_width, label='Test')\n",
    "plt.bar([x + bar_width for x in steps], conversion_rates.loc['Control'], \n",
    "        bar_width, label='Control')\n",
    "\n",
    "plt.xlabel('Process Step')\n",
    "plt.ylabel('Conversion Rate (% of total visits)')\n",
    "plt.title('Funnel Conversion Rates by Group')\n",
    "plt.xticks([x + bar_width/2 for x in steps], [f'Step {x}' for x in steps])\n",
    "plt.legend()\n",
    "plt.show()\n"
   ]
  },
  {
   "cell_type": "code",
   "execution_count": null,
   "metadata": {},
   "outputs": [],
   "source": [
    "# At which step there is abandonment OR Overall"
   ]
  },
  {
   "cell_type": "code",
   "execution_count": null,
   "metadata": {},
   "outputs": [],
   "source": [
    "#Set the hypothesis\n",
    "\n",
    "#H0: mu step0 = mu step1 = mu step2 = mu step3 = mu step4\n",
    "#H1: mu step0 != mu step1 != mu step2 != mu step3 != mu step4\n",
    "\n",
    "#Lets choose significance level of 10%\n",
    "alpha = 0.10\n",
    "\n",
    "st.f_oneway(funnel[0], funnel[1], funnel[2], funnel[3], funnel[4])"
   ]
  },
  {
   "cell_type": "code",
   "execution_count": null,
   "metadata": {},
   "outputs": [],
   "source": [
    "print(\"Abandonment Ratios Young Adults\")\n",
    "display(abandonment_rates_ya.loc['Ratio'])\n",
    "\n",
    "print(\"\\nAbandonment Ratios Elderly\")\n",
    "display(abandonment_rates_e.loc['Ratio'])"
   ]
  },
  {
   "cell_type": "code",
   "execution_count": null,
   "metadata": {},
   "outputs": [],
   "source": [
    "#Set the hypothesis\n",
    "#In proportion, the elderly has lower conversion rate in the test group than in the control group\n",
    "#Abandonment rate for the Elderly is higher in the test group than in the control group compared to Young Adults.\n",
    "\n",
    "#H0: mu conversion = mu step1 = mu step2 = mu step3 = mu step4\n",
    "#H1: mu step0 != mu step1 != mu step2 != mu step3 != mu step4\n",
    "\n",
    "#Lets choose significance level of 10%\n",
    "alpha = 0.10"
   ]
  }
 ],
 "metadata": {
  "kernelspec": {
   "display_name": "second_project_eda",
   "language": "python",
   "name": "python3"
  },
  "language_info": {
   "codemirror_mode": {
    "name": "ipython",
    "version": 3
   },
   "file_extension": ".py",
   "mimetype": "text/x-python",
   "name": "python",
   "nbconvert_exporter": "python",
   "pygments_lexer": "ipython3",
   "version": "3.9.6"
  }
 },
 "nbformat": 4,
 "nbformat_minor": 2
}
