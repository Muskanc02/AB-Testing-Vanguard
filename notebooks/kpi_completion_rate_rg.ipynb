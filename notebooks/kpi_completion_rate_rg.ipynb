{
 "cells": [
  {
   "cell_type": "code",
   "execution_count": null,
   "id": "d193494e-21e7-4b94-a211-dd0c2f4d7aeb",
   "metadata": {},
   "outputs": [],
   "source": [
    "import functions as f\n",
    "import pandas as pd\n",
    "from datetime import datetime\n",
    "import matplotlib.pyplot as plt\n",
    "import seaborn as sns\n",
    "import numpy as np\n",
    "import math\n",
    "import scipy.stats as st\n",
    "from palette import vanguard_palette"
   ]
  },
  {
   "cell_type": "code",
   "execution_count": null,
   "id": "6102888f-92c8-4377-a01a-58ee4497bbd4",
   "metadata": {},
   "outputs": [],
   "source": [
    "df = pd.read_csv(\"../data/clean/df_join_clean.csv\")\n",
    "print(f\"Shape of final DataFrame: {df.shape}\")"
   ]
  },
  {
   "cell_type": "markdown",
   "id": "f059ee5e-e6fb-4bf7-8c3f-3b56ec097ae0",
   "metadata": {},
   "source": [
    "### Completion Rates"
   ]
  },
  {
   "cell_type": "code",
   "execution_count": null,
   "id": "9723c38b-da69-443e-877b-d2e1233a5024",
   "metadata": {},
   "outputs": [],
   "source": [
    "# Calculate Completion Rate\n",
    "completion_status = df.groupby(['client_id', 'visitor_id', 'visit_id'])['process_step'].max() == 4\n",
    "completion_rate = completion_status.mean().round(2)\n",
    "print(f\"The completion rate for the whole group is: {completion_rate:.2f}\")"
   ]
  },
  {
   "cell_type": "markdown",
   "id": "d170dc10-c2ac-4eb6-90c5-09a46532833c",
   "metadata": {},
   "source": [
    "### Control Group"
   ]
  },
  {
   "cell_type": "code",
   "execution_count": null,
   "id": "58b7a7f1-2234-4934-ab84-b7e238344902",
   "metadata": {
    "scrolled": true
   },
   "outputs": [],
   "source": [
    "df_control = df[df['Variation'] == 'Control']\n",
    "\n",
    "# Identify completed sessions (where process_step = 4 exists for a given visit_id)\n",
    "control_completion_status = df_control.groupby(['client_id', 'visit_id'])['process_step'].max() == 4\n",
    "\n",
    "control_completion_status.head(30)\n",
    "\n",
    "# Calculate Completion Rate\n",
    "control_completion_avg = control_completion_status.mean()\n",
    "print(f\"The completion average for the control group is: {control_completion_avg:.2f}\")"
   ]
  },
  {
   "cell_type": "markdown",
   "id": "4dc80b20-1033-4415-8ce0-2187ed586029",
   "metadata": {},
   "source": [
    "### Test Group"
   ]
  },
  {
   "cell_type": "code",
   "execution_count": null,
   "id": "98d6e0b6-7a56-4744-b882-21b120a47123",
   "metadata": {},
   "outputs": [],
   "source": [
    "df_test = df[df['Variation'] == 'Test']\n",
    "\n",
    "# Identify completed sessions\n",
    "test_completion_status = df_test.groupby(['client_id', 'visit_id'])['process_step'].max() == 4\n",
    "\n",
    "\n",
    "\n",
    "# Calculate Completion Rate\n",
    "test_completion_avg = test_completion_status.mean().round(2)\n",
    "print(f\"The completion average for the test group is: {test_completion_avg:.2f}\")"
   ]
  },
  {
   "cell_type": "markdown",
   "id": "f544bcf7-4795-48f8-9757-18326c12323f",
   "metadata": {},
   "source": [
    "### Hypothesis Tests\n",
    "\n",
    "##### Threshold: Vanguard has set this minimum increase in completion rate at 5%. This is the rate at which the projected benefits, in terms of increased user engagement and potential revenue, are estimated to outweigh the costs of the new design."
   ]
  },
  {
   "cell_type": "markdown",
   "id": "3d94f497-c364-4110-aea5-34fdc6898cd4",
   "metadata": {},
   "source": [
    "#### Completion Rate Hypothesis Test"
   ]
  },
  {
   "cell_type": "markdown",
   "id": "a8a1ec3f-4867-454a-9418-1a513e1764bf",
   "metadata": {},
   "source": [
    "$$H_{0}: completion-rate-test <= completion-rate_control$$\n",
    "$$H_{1}: completion-rate-test > completion-rate-control$$"
   ]
  },
  {
   "cell_type": "code",
   "execution_count": null,
   "id": "4e662d53-05b5-4858-87f0-e8738f113502",
   "metadata": {},
   "outputs": [],
   "source": [
    "total_session_started = df_test.groupby('visit_id')['session_started'].max().sum()\n",
    "total_session_completed = df_test.groupby('visit_id')['session_completed'].max().sum()\n",
    "total_session_completed"
   ]
  },
  {
   "cell_type": "code",
   "execution_count": null,
   "id": "9bff649f-d28a-4166-91bb-009ce3321a3b",
   "metadata": {},
   "outputs": [],
   "source": [
    "#Set Hypothesis\n",
    "\n",
    "#The test group completion rate is performing better on average than the control group.\n",
    "\n",
    "alpha = 0.05\n",
    "\n",
    "#Proportion Test\n",
    "\n",
    "# Compute test statistics\n",
    "\n",
    "x_test = df_test.groupby('visit_id')['session_completed'].max().sum()  # Completed in test group\n",
    "x_control = df_control.groupby('visit_id')['session_completed'].max().sum() # Completed in control group\n",
    "\n",
    "n_test = df_test['visit_id'].nunique()   # Unique visits in test group\n",
    "n_control = df_control['visit_id'].nunique()  # Unique visits in control group\n",
    "\n",
    "p1_test = x_test / n_test  # Completion rate test group\n",
    "p1_control = x_control / n_control  # Completion rate control group\n",
    "\n",
    "# Compute pooled proportion and standard error\n",
    "p_pooled = (x_test + x_control) / (n_test + n_control)  # Pooled proportion\n",
    "q_pooled = 1 - p_pooled  # Complement of pooled proportion\n",
    "\n",
    "SE = np.sqrt(p_pooled * q_pooled * (1/n_test + 1/n_control))\n",
    "\n",
    "# Compute Z-score\n",
    "z = (p1_test - p1_control) / SE\n",
    "\n",
    "# Compute one-tailed p-value (right-tailed test)\n",
    "p_value = 1 - st.norm.cdf(z)\n",
    "\n",
    "# Hypothesis test decision\n",
    "if p_value < alpha:\n",
    "    print(\"Reject the null hypothesis: The test group has a significantly higher completion rate than the control group.\")\n",
    "else:\n",
    "    print(\"Fail to reject the null hypothesis: There is no statistically significant evidence that the test group performs better than the control group.\")\n",
    "\n",
    "print(f\"Z-score: {z:.4f}, p-value: {p_value}\")"
   ]
  },
  {
   "cell_type": "markdown",
   "id": "50067d05-abae-402e-b02c-46d9640577c9",
   "metadata": {},
   "source": [
    "$$H_{0}: \\text{completion\\_rate\\_test} - \\text{completion\\_rate\\_control} >= 0.05$$\n",
    "$$H_{1}: \\text{completion\\_rate\\_test} - \\text{completion\\_rate\\_control} < 0.05$$"
   ]
  },
  {
   "cell_type": "code",
   "execution_count": null,
   "id": "907cdc76-1d02-4400-9f27-314484ea425a",
   "metadata": {},
   "outputs": [],
   "source": [
    "#Proportion Test\n",
    "\n",
    "# Compute test statistics\n",
    "x_test = df_test.groupby('visit_id')['session_completed'].max().sum()  # Completed in test group\n",
    "x_control = df_control.groupby('visit_id')['session_completed'].max().sum() # Completed in control group\n",
    "\n",
    "n_test = df_test['visit_id'].nunique()   # Unique visits in test group\n",
    "n_control = df_control['visit_id'].nunique()  # Unique visits in control group\n",
    "\n",
    "p1_test = x_test / n_test  # Completion rate test group\n",
    "p1_control = x_control / n_control  # Completion rate control group\n",
    "\n",
    "# Define the expected difference under H0\n",
    "delta = 0.05  # 5% increase\n",
    "\n",
    "# Compute standard error\n",
    "p_pooled = (x_test + x_control) / (n_test + n_control)  # Pooled proportion\n",
    "q_pooled = 1 - p_pooled\n",
    "\n",
    "SE = np.sqrt(p_pooled * q_pooled * (1/n_test + 1/n_control))\n",
    "\n",
    "# Compute Z-score\n",
    "z = (p1_test - p1_control - delta) / SE  # Subtract delta\n",
    "\n",
    "# Compute one-tailed p-value (right-tailed test)\n",
    "p_value = 1 - st.norm.cdf(z)\n",
    "\n",
    "# Print results\n",
    "print(f\"Z-score: {z:.4f}, p-value: {p_value:.6f}\")\n",
    "\n",
    "# Hypothesis test decision\n",
    "if p_value < alpha:\n",
    "    print(\"Reject the null hypothesis: The completion rate increase is greater than 5%.\")\n",
    "else:\n",
    "    print(\"Fail to reject the null hypothesis: The completion rate increase is at most 5%.\")"
   ]
  },
  {
   "cell_type": "markdown",
   "id": "4936d91d-fa1b-4b7f-af66-a2309ddccc91",
   "metadata": {},
   "source": [
    "#### Average Client Tenure Hypothesis Test"
   ]
  },
  {
   "cell_type": "markdown",
   "id": "797a2e05-cab3-4caa-af3c-f91420414b9f",
   "metadata": {},
   "source": [
    "$$H_{0}: \\text{avg\\_age\\_test} <= \\text{avg\\_age\\_control}$$\n",
    "$$H_{1}: \\text{avg\\_age\\_test} > \\text{avg\\_age\\_control}$$"
   ]
  },
  {
   "cell_type": "code",
   "execution_count": null,
   "id": "25a8eae2-91d8-40bb-845d-497037c3988f",
   "metadata": {},
   "outputs": [],
   "source": [
    "#The average age of clients engaging with the new process is the same as those engaging with the old process.\n",
    "\n",
    "#Chisquare Test\n",
    "\n",
    "crosstab_age = pd.crosstab(df['Variation'], df['age_group'])\n",
    "chi2_stat, chi2_p_value, _, expected_frequency = st.chi2_contingency(crosstab_age)\n",
    "\n",
    "chi2_stat,chi2_p_value\n",
    "\n",
    "if chi2_p_value > alpha:\n",
    "    print(f\"Fail to reject the null hypothesis (H0). There is no significant difference in age distribution between the test and control groups (p-value: {chi2_p_value:.4f}).\")\n",
    "else:\n",
    "    print(f\"Reject the null hypothesis (H0). There is a significant difference in age distribution between the test and control groups (p-value: {chi2_p_value:.4f}).\")"
   ]
  },
  {
   "cell_type": "markdown",
   "id": "f7372300-bb79-4611-8894-1eafd87f961b",
   "metadata": {},
   "source": [
    "#### Average Client Tenure Hypothesis Test"
   ]
  },
  {
   "cell_type": "markdown",
   "id": "8f88403c-1126-44b4-b922-6eb5978f1452",
   "metadata": {},
   "source": [
    "$$H_{0}: \\text{avg\\_tenure\\_test} = \\text{avg\\_tenure\\_control}$$\n",
    "$$H_{1}: \\text{avg\\_tenure\\_test} \\_  != \\text{avg\\_tenure\\_control}$$"
   ]
  },
  {
   "cell_type": "code",
   "execution_count": null,
   "id": "a429097b-eacb-4843-b4fb-8a6e678a18af",
   "metadata": {},
   "outputs": [],
   "source": [
    "#Set Hypothesis\n",
    "\n",
    "#The average client tenure engaging with the new process is the same as those engaging with the old process.\n",
    "\n",
    "#H0  avg_tenure_test = avg_tenure_control\n",
    "#H1: avg_tenure_test != avg_tenure_control\n",
    "\n",
    "\n",
    "tenure_control_df = df[(df['Variation'] == 'Control')]['clnt_tenure_yr']\n",
    "tenure_test_df = df[(df['Variation'] == 'Test')]['clnt_tenure_yr']\n",
    "\n",
    "stat, p_value = st.ttest_ind(tenure_test_df, tenure_control_df, equal_var=False, alternative='two-sided')\n",
    "\n",
    "if p_value > alpha:\n",
    "    print(f\"We fail to reject the null hypothesis (H0). There is no significant difference in average tenure between the test and control groups (p-value: {p_value}).\")\n",
    "else:\n",
    "    print(f\"We reject the null hypothesis (H0). There is a significant difference in average tenure between the test and control groups (p-value: {p_value}).\")"
   ]
  }
 ],
 "metadata": {
  "kernelspec": {
   "display_name": "second_project_venv",
   "language": "python",
   "name": "second_project_venv"
  },
  "language_info": {
   "codemirror_mode": {
    "name": "ipython",
    "version": 3
   },
   "file_extension": ".py",
   "mimetype": "text/x-python",
   "name": "python",
   "nbconvert_exporter": "python",
   "pygments_lexer": "ipython3",
   "version": "3.9.6"
  }
 },
 "nbformat": 4,
 "nbformat_minor": 5
}
